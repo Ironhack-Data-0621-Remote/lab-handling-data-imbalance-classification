{
 "cells": [
  {
   "cell_type": "markdown",
   "id": "1c5dff02-eff9-4188-a11a-5c325f99a346",
   "metadata": {},
   "source": [
    "# Lab | Handling Data Imbalance in Classification Models"
   ]
  },
  {
   "cell_type": "markdown",
   "id": "1ce60032-dfb6-43ea-a21d-17d39527dbdd",
   "metadata": {},
   "source": [
    "### Scenario\n",
    "\n",
    "You are working as an analyst with this internet service provider. You are provided with this historical data about your company's customers and their churn trends. Your task is to build a machine learning model that will help the company identify customers that are more likely to default/churn and thus prevent losses from such customers.\n",
    "\n",
    "### Instructions\n",
    "\n",
    "In this lab, we will first take a look at the degree of imbalance in the data and correct it using the techniques we learned on the class."
   ]
  },
  {
   "cell_type": "markdown",
   "id": "f0212300-6d58-42b1-851d-047b3df5735b",
   "metadata": {},
   "source": [
    "# Solutions\n",
    "\n",
    "### 1. Libary imports"
   ]
  },
  {
   "cell_type": "code",
   "execution_count": 84,
   "id": "e50167c9-7fb2-47bd-9c22-f7c8ab1c770f",
   "metadata": {},
   "outputs": [],
   "source": [
    "import pandas as pd\n",
    "import numpy as np\n",
    "import math\n",
    "import matplotlib as plt\n",
    "import seaborn as sns\n",
    "from sklearn.preprocessing import Normalizer, StandardScaler\n",
    "from imblearn.over_sampling import SMOTE \n",
    "from imblearn.under_sampling import TomekLinks\n",
    "from sklearn.model_selection import train_test_split\n",
    "from sklearn.linear_model import LogisticRegression\n",
    "from sklearn import metrics\n",
    "from sklearn.metrics import accuracy_score\n",
    "from sklearn.metrics import roc_auc_score\n",
    "from sklearn.metrics import confusion_matrix\n",
    "import warnings\n",
    "warnings.filterwarnings('ignore')\n",
    "pd.set_option('display.max_columns', None)"
   ]
  },
  {
   "cell_type": "code",
   "execution_count": null,
   "id": "131072f8-de93-4b44-98e9-1ac471566542",
   "metadata": {},
   "outputs": [],
   "source": []
  },
  {
   "cell_type": "markdown",
   "id": "5c934b9b-5d31-4b0c-80f7-950d1650d43f",
   "metadata": {},
   "source": [
    "### 2. Data import"
   ]
  },
  {
   "cell_type": "code",
   "execution_count": 85,
   "id": "77e648c8-cfe7-4dff-b664-2aea1ee8c4c6",
   "metadata": {},
   "outputs": [
    {
     "data": {
      "text/html": [
       "<div>\n",
       "<style scoped>\n",
       "    .dataframe tbody tr th:only-of-type {\n",
       "        vertical-align: middle;\n",
       "    }\n",
       "\n",
       "    .dataframe tbody tr th {\n",
       "        vertical-align: top;\n",
       "    }\n",
       "\n",
       "    .dataframe thead th {\n",
       "        text-align: right;\n",
       "    }\n",
       "</style>\n",
       "<table border=\"1\" class=\"dataframe\">\n",
       "  <thead>\n",
       "    <tr style=\"text-align: right;\">\n",
       "      <th></th>\n",
       "      <th>gender</th>\n",
       "      <th>SeniorCitizen</th>\n",
       "      <th>Partner</th>\n",
       "      <th>Dependents</th>\n",
       "      <th>tenure</th>\n",
       "      <th>PhoneService</th>\n",
       "      <th>OnlineSecurity</th>\n",
       "      <th>OnlineBackup</th>\n",
       "      <th>DeviceProtection</th>\n",
       "      <th>TechSupport</th>\n",
       "      <th>StreamingTV</th>\n",
       "      <th>StreamingMovies</th>\n",
       "      <th>Contract</th>\n",
       "      <th>MonthlyCharges</th>\n",
       "      <th>TotalCharges</th>\n",
       "      <th>Churn</th>\n",
       "    </tr>\n",
       "  </thead>\n",
       "  <tbody>\n",
       "    <tr>\n",
       "      <th>0</th>\n",
       "      <td>Female</td>\n",
       "      <td>0</td>\n",
       "      <td>Yes</td>\n",
       "      <td>No</td>\n",
       "      <td>1</td>\n",
       "      <td>No</td>\n",
       "      <td>No</td>\n",
       "      <td>Yes</td>\n",
       "      <td>No</td>\n",
       "      <td>No</td>\n",
       "      <td>No</td>\n",
       "      <td>No</td>\n",
       "      <td>Month-to-month</td>\n",
       "      <td>29.85</td>\n",
       "      <td>29.85</td>\n",
       "      <td>No</td>\n",
       "    </tr>\n",
       "    <tr>\n",
       "      <th>1</th>\n",
       "      <td>Male</td>\n",
       "      <td>0</td>\n",
       "      <td>No</td>\n",
       "      <td>No</td>\n",
       "      <td>34</td>\n",
       "      <td>Yes</td>\n",
       "      <td>Yes</td>\n",
       "      <td>No</td>\n",
       "      <td>Yes</td>\n",
       "      <td>No</td>\n",
       "      <td>No</td>\n",
       "      <td>No</td>\n",
       "      <td>One year</td>\n",
       "      <td>56.95</td>\n",
       "      <td>1889.5</td>\n",
       "      <td>No</td>\n",
       "    </tr>\n",
       "    <tr>\n",
       "      <th>2</th>\n",
       "      <td>Male</td>\n",
       "      <td>0</td>\n",
       "      <td>No</td>\n",
       "      <td>No</td>\n",
       "      <td>2</td>\n",
       "      <td>Yes</td>\n",
       "      <td>Yes</td>\n",
       "      <td>Yes</td>\n",
       "      <td>No</td>\n",
       "      <td>No</td>\n",
       "      <td>No</td>\n",
       "      <td>No</td>\n",
       "      <td>Month-to-month</td>\n",
       "      <td>53.85</td>\n",
       "      <td>108.15</td>\n",
       "      <td>Yes</td>\n",
       "    </tr>\n",
       "    <tr>\n",
       "      <th>3</th>\n",
       "      <td>Male</td>\n",
       "      <td>0</td>\n",
       "      <td>No</td>\n",
       "      <td>No</td>\n",
       "      <td>45</td>\n",
       "      <td>No</td>\n",
       "      <td>Yes</td>\n",
       "      <td>No</td>\n",
       "      <td>Yes</td>\n",
       "      <td>Yes</td>\n",
       "      <td>No</td>\n",
       "      <td>No</td>\n",
       "      <td>One year</td>\n",
       "      <td>42.30</td>\n",
       "      <td>1840.75</td>\n",
       "      <td>No</td>\n",
       "    </tr>\n",
       "    <tr>\n",
       "      <th>4</th>\n",
       "      <td>Female</td>\n",
       "      <td>0</td>\n",
       "      <td>No</td>\n",
       "      <td>No</td>\n",
       "      <td>2</td>\n",
       "      <td>Yes</td>\n",
       "      <td>No</td>\n",
       "      <td>No</td>\n",
       "      <td>No</td>\n",
       "      <td>No</td>\n",
       "      <td>No</td>\n",
       "      <td>No</td>\n",
       "      <td>Month-to-month</td>\n",
       "      <td>70.70</td>\n",
       "      <td>151.65</td>\n",
       "      <td>Yes</td>\n",
       "    </tr>\n",
       "  </tbody>\n",
       "</table>\n",
       "</div>"
      ],
      "text/plain": [
       "   gender  SeniorCitizen Partner Dependents  tenure PhoneService  \\\n",
       "0  Female              0     Yes         No       1           No   \n",
       "1    Male              0      No         No      34          Yes   \n",
       "2    Male              0      No         No       2          Yes   \n",
       "3    Male              0      No         No      45           No   \n",
       "4  Female              0      No         No       2          Yes   \n",
       "\n",
       "  OnlineSecurity OnlineBackup DeviceProtection TechSupport StreamingTV  \\\n",
       "0             No          Yes               No          No          No   \n",
       "1            Yes           No              Yes          No          No   \n",
       "2            Yes          Yes               No          No          No   \n",
       "3            Yes           No              Yes         Yes          No   \n",
       "4             No           No               No          No          No   \n",
       "\n",
       "  StreamingMovies        Contract  MonthlyCharges TotalCharges Churn  \n",
       "0              No  Month-to-month           29.85        29.85    No  \n",
       "1              No        One year           56.95       1889.5    No  \n",
       "2              No  Month-to-month           53.85       108.15   Yes  \n",
       "3              No        One year           42.30      1840.75    No  \n",
       "4              No  Month-to-month           70.70       151.65   Yes  "
      ]
     },
     "execution_count": 85,
     "metadata": {},
     "output_type": "execute_result"
    }
   ],
   "source": [
    "churnData = pd.read_csv('files_for_lab/Customer-Churn.csv')\n",
    "churnData.head()"
   ]
  },
  {
   "cell_type": "code",
   "execution_count": null,
   "id": "542b8787-7487-46bb-b48b-b5d3a8c5a56c",
   "metadata": {},
   "outputs": [],
   "source": []
  },
  {
   "cell_type": "markdown",
   "id": "63cddfa7-5a91-4be7-b27f-47e9b3ff5e8f",
   "metadata": {},
   "source": [
    "### 3. Data overview"
   ]
  },
  {
   "cell_type": "code",
   "execution_count": 86,
   "id": "ee7d0e8d-0f83-44e1-b606-ae0f20be2740",
   "metadata": {},
   "outputs": [
    {
     "data": {
      "text/plain": [
       "(7043, 16)"
      ]
     },
     "execution_count": 86,
     "metadata": {},
     "output_type": "execute_result"
    }
   ],
   "source": [
    "churnData.shape"
   ]
  },
  {
   "cell_type": "code",
   "execution_count": 87,
   "id": "616f2826-2965-4786-b97b-845a23e06849",
   "metadata": {},
   "outputs": [
    {
     "name": "stdout",
     "output_type": "stream",
     "text": [
      "<class 'pandas.core.frame.DataFrame'>\n",
      "RangeIndex: 7043 entries, 0 to 7042\n",
      "Data columns (total 16 columns):\n",
      " #   Column            Non-Null Count  Dtype  \n",
      "---  ------            --------------  -----  \n",
      " 0   gender            7043 non-null   object \n",
      " 1   SeniorCitizen     7043 non-null   int64  \n",
      " 2   Partner           7043 non-null   object \n",
      " 3   Dependents        7043 non-null   object \n",
      " 4   tenure            7043 non-null   int64  \n",
      " 5   PhoneService      7043 non-null   object \n",
      " 6   OnlineSecurity    7043 non-null   object \n",
      " 7   OnlineBackup      7043 non-null   object \n",
      " 8   DeviceProtection  7043 non-null   object \n",
      " 9   TechSupport       7043 non-null   object \n",
      " 10  StreamingTV       7043 non-null   object \n",
      " 11  StreamingMovies   7043 non-null   object \n",
      " 12  Contract          7043 non-null   object \n",
      " 13  MonthlyCharges    7043 non-null   float64\n",
      " 14  TotalCharges      7043 non-null   object \n",
      " 15  Churn             7043 non-null   object \n",
      "dtypes: float64(1), int64(2), object(13)\n",
      "memory usage: 880.5+ KB\n"
     ]
    }
   ],
   "source": [
    "churnData.info()"
   ]
  },
  {
   "cell_type": "code",
   "execution_count": 88,
   "id": "4e76a60f-a529-4317-ab7c-52c95fee17bb",
   "metadata": {},
   "outputs": [],
   "source": [
    "# convert 'TotalCharges' to numerical column\n",
    "churnData['TotalCharges'] = pd.to_numeric(churnData['TotalCharges'], errors='coerce')\n"
   ]
  },
  {
   "cell_type": "code",
   "execution_count": null,
   "id": "40eba303-3187-4566-92e3-340f69669a4d",
   "metadata": {},
   "outputs": [],
   "source": []
  },
  {
   "cell_type": "markdown",
   "id": "513718db-350f-4159-8b7d-49a44a1ef9a3",
   "metadata": {},
   "source": [
    "### 4. Null values"
   ]
  },
  {
   "cell_type": "code",
   "execution_count": 89,
   "id": "a4b18c23-8d83-46ca-bb28-4b5dee2f8dc0",
   "metadata": {},
   "outputs": [
    {
     "data": {
      "text/plain": [
       "gender               0\n",
       "SeniorCitizen        0\n",
       "Partner              0\n",
       "Dependents           0\n",
       "tenure               0\n",
       "PhoneService         0\n",
       "OnlineSecurity       0\n",
       "OnlineBackup         0\n",
       "DeviceProtection     0\n",
       "TechSupport          0\n",
       "StreamingTV          0\n",
       "StreamingMovies      0\n",
       "Contract             0\n",
       "MonthlyCharges       0\n",
       "TotalCharges        11\n",
       "Churn                0\n",
       "dtype: int64"
      ]
     },
     "execution_count": 89,
     "metadata": {},
     "output_type": "execute_result"
    }
   ],
   "source": [
    "churnData.isna().sum()"
   ]
  },
  {
   "cell_type": "code",
   "execution_count": 90,
   "id": "18892cf2-39a9-47eb-a487-7aade3b878d3",
   "metadata": {},
   "outputs": [],
   "source": [
    "churnData['TotalCharges'] = churnData['TotalCharges'].fillna(churnData['TotalCharges'].median())"
   ]
  },
  {
   "cell_type": "code",
   "execution_count": 91,
   "id": "f35107a1-d903-4f39-afdc-d75bb8e6e366",
   "metadata": {},
   "outputs": [
    {
     "data": {
      "text/plain": [
       "gender              0\n",
       "SeniorCitizen       0\n",
       "Partner             0\n",
       "Dependents          0\n",
       "tenure              0\n",
       "PhoneService        0\n",
       "OnlineSecurity      0\n",
       "OnlineBackup        0\n",
       "DeviceProtection    0\n",
       "TechSupport         0\n",
       "StreamingTV         0\n",
       "StreamingMovies     0\n",
       "Contract            0\n",
       "MonthlyCharges      0\n",
       "TotalCharges        0\n",
       "Churn               0\n",
       "dtype: int64"
      ]
     },
     "execution_count": 91,
     "metadata": {},
     "output_type": "execute_result"
    }
   ],
   "source": [
    "churnData.isna().sum()"
   ]
  },
  {
   "cell_type": "code",
   "execution_count": null,
   "id": "6bb5c90a-b372-41ab-9915-8a6e5f32cae2",
   "metadata": {},
   "outputs": [],
   "source": []
  },
  {
   "cell_type": "markdown",
   "id": "3f0bf1eb-095d-4618-adcd-388345ece01f",
   "metadata": {},
   "source": [
    "### 5. Data preprocessing"
   ]
  },
  {
   "cell_type": "code",
   "execution_count": 92,
   "id": "067758b7-47f7-44df-92b1-2ffe50bcf40a",
   "metadata": {},
   "outputs": [],
   "source": [
    "# feature selection / x-y-split\n",
    "X = churnData[['tenure', 'SeniorCitizen', 'MonthlyCharges', 'TotalCharges']]\n",
    "y = churnData['Churn']\n",
    "\n",
    "# train-test-split\n",
    "X_train, X_test, y_train, y_test = train_test_split(X, y, test_size=0.2, random_state=99)\n",
    "\n",
    "y_train = pd.DataFrame(y_train).reset_index()\n",
    "y_test = pd.DataFrame(y_test).reset_index()\n",
    "y_train = y_train.drop(['index'], axis=1)\n",
    "y_test = y_test.drop(['index'], axis=1)\n"
   ]
  },
  {
   "cell_type": "code",
   "execution_count": 112,
   "id": "03d9fb0b-b8d5-4df1-abd3-96641969dca6",
   "metadata": {},
   "outputs": [],
   "source": [
    "# data scaling\n",
    "normalizer = Normalizer().fit(X_train)\n",
    "\n",
    "X_train = normalizer.transform(X_train)\n",
    "X_test = normalizer.transform(X_test)\n",
    "\n",
    "X_train = pd.DataFrame(X_train)\n",
    "X_test = pd.DataFrame(X_test)\n"
   ]
  },
  {
   "cell_type": "code",
   "execution_count": null,
   "id": "ed452999-5309-48ae-ab7a-9062a5feb112",
   "metadata": {},
   "outputs": [],
   "source": []
  },
  {
   "cell_type": "markdown",
   "id": "bb88436d-3243-4108-aec2-89caee370905",
   "metadata": {},
   "source": [
    "### 6. Modeling"
   ]
  },
  {
   "cell_type": "code",
   "execution_count": 94,
   "id": "b6a23ce4-9a73-4e9b-a982-914c16f76921",
   "metadata": {},
   "outputs": [],
   "source": [
    "# evaluation function for binary classifications\n",
    "# inputs: training and test data, model after fit\n",
    "# outputs: report df\n",
    "def clf_evaluation(trainX, trainY, testX, testY, model):\n",
    "    # predictions and report\n",
    "    predictions = model.predict(testX)\n",
    "    report = pd.DataFrame(metrics.classification_report(testY, predictions, output_dict=True)).transpose()\n",
    "    report = round(report, 3)\n",
    "    \n",
    "    # AUC score\n",
    "    auc = roc_auc_score(testY, model.predict_proba(testX)[:, 1])\n",
    "    # adding AUC to report\n",
    "    report['AUC'] = [auc, np.NaN, report['precision'].iloc[2], np.NaN, np.NaN]\n",
    "    report['AUC'] = round(report['AUC'], 3)\n",
    "    report['AUC'] = report['AUC'].fillna('-')\n",
    "    report = report[['precision', 'recall', 'f1-score', 'AUC', 'support']]\n",
    "    \n",
    "    # identify maj and min class\n",
    "    target_col = list(trainY.columns.values)[0]\n",
    "    values_sorted = trainY[target_col].value_counts()\n",
    "    \n",
    "    # confusion matrix plot\n",
    "    cf_matrix = confusion_matrix(testY, predictions, normalize='all')\n",
    "    group_names = ['True ' + values_sorted.index[0], 'False ' + values_sorted.index[0],\n",
    "                   'False ' + values_sorted.index[1], 'True ' + values_sorted.index[1]]\n",
    "    group_counts = [\"{0:0.0f}\".format(value) for value in cf_matrix.flatten()]\n",
    "    group_percentages = [\"{0:.2%}\".format(value) for value in cf_matrix.flatten()/np.sum(cf_matrix)]\n",
    "    labels = [f\"{v1}\\n{v2}\\n{v3}\" for v1, v2, v3 in zip(group_names,group_counts,group_percentages)]\n",
    "    labels = np.asarray(labels).reshape(2,2)\n",
    "    sns.heatmap(cf_matrix, annot=labels, fmt='', cmap='Blues')\n",
    "    return report"
   ]
  },
  {
   "cell_type": "code",
   "execution_count": 95,
   "id": "0851a9c5-d55f-45c6-990f-ffe120b5fffd",
   "metadata": {},
   "outputs": [
    {
     "data": {
      "text/plain": [
       "LogisticRegression(max_iter=1000, random_state=51)"
      ]
     },
     "execution_count": 95,
     "metadata": {},
     "output_type": "execute_result"
    }
   ],
   "source": [
    "# Building model\n",
    "classification = LogisticRegression(random_state=51, max_iter=1000) \n",
    "classification.fit(X_train, y_train)\n"
   ]
  },
  {
   "cell_type": "code",
   "execution_count": 96,
   "id": "f83967f3-012c-4c95-8fc1-192a841ef110",
   "metadata": {},
   "outputs": [
    {
     "data": {
      "image/png": "[encoded data removed]",
      "text/plain": [
       "<Figure size 432x288 with 2 Axes>"
      ]
     },
     "metadata": {
      "needs_background": "light"
     },
     "output_type": "display_data"
    }
   ],
   "source": [
    "# model evaluation\n",
    "clf_report = clf_evaluation(X_train, y_train, X_test, y_test, classification)\n"
   ]
  },
  {
   "cell_type": "code",
   "execution_count": 97,
   "id": "7f6548d2-7cfa-452b-bf75-87e38956cba6",
   "metadata": {},
   "outputs": [
    {
     "data": {
      "text/html": [
       "<div>\n",
       "<style scoped>\n",
       "    .dataframe tbody tr th:only-of-type {\n",
       "        vertical-align: middle;\n",
       "    }\n",
       "\n",
       "    .dataframe tbody tr th {\n",
       "        vertical-align: top;\n",
       "    }\n",
       "\n",
       "    .dataframe thead th {\n",
       "        text-align: right;\n",
       "    }\n",
       "</style>\n",
       "<table border=\"1\" class=\"dataframe\">\n",
       "  <thead>\n",
       "    <tr style=\"text-align: right;\">\n",
       "      <th></th>\n",
       "      <th>precision</th>\n",
       "      <th>recall</th>\n",
       "      <th>f1-score</th>\n",
       "      <th>AUC</th>\n",
       "      <th>support</th>\n",
       "    </tr>\n",
       "  </thead>\n",
       "  <tbody>\n",
       "    <tr>\n",
       "      <th>No</th>\n",
       "      <td>0.773</td>\n",
       "      <td>0.940</td>\n",
       "      <td>0.848</td>\n",
       "      <td>0.775</td>\n",
       "      <td>1023.000</td>\n",
       "    </tr>\n",
       "    <tr>\n",
       "      <th>Yes</th>\n",
       "      <td>0.628</td>\n",
       "      <td>0.267</td>\n",
       "      <td>0.375</td>\n",
       "      <td>-</td>\n",
       "      <td>386.000</td>\n",
       "    </tr>\n",
       "    <tr>\n",
       "      <th>accuracy</th>\n",
       "      <td>0.756</td>\n",
       "      <td>0.756</td>\n",
       "      <td>0.756</td>\n",
       "      <td>0.756</td>\n",
       "      <td>0.756</td>\n",
       "    </tr>\n",
       "    <tr>\n",
       "      <th>macro avg</th>\n",
       "      <td>0.700</td>\n",
       "      <td>0.604</td>\n",
       "      <td>0.611</td>\n",
       "      <td>-</td>\n",
       "      <td>1409.000</td>\n",
       "    </tr>\n",
       "    <tr>\n",
       "      <th>weighted avg</th>\n",
       "      <td>0.733</td>\n",
       "      <td>0.756</td>\n",
       "      <td>0.719</td>\n",
       "      <td>-</td>\n",
       "      <td>1409.000</td>\n",
       "    </tr>\n",
       "  </tbody>\n",
       "</table>\n",
       "</div>"
      ],
      "text/plain": [
       "              precision  recall  f1-score    AUC   support\n",
       "No                0.773   0.940     0.848  0.775  1023.000\n",
       "Yes               0.628   0.267     0.375      -   386.000\n",
       "accuracy          0.756   0.756     0.756  0.756     0.756\n",
       "macro avg         0.700   0.604     0.611      -  1409.000\n",
       "weighted avg      0.733   0.756     0.719      -  1409.000"
      ]
     },
     "execution_count": 97,
     "metadata": {},
     "output_type": "execute_result"
    }
   ],
   "source": [
    "clf_report"
   ]
  },
  {
   "cell_type": "code",
   "execution_count": null,
   "id": "cf7ed66d-4921-4ec1-ab4d-a5d32a98b8f7",
   "metadata": {},
   "outputs": [],
   "source": []
  },
  {
   "cell_type": "markdown",
   "id": "6908448c-9de0-4088-b4f2-5eabdec86f28",
   "metadata": {},
   "source": [
    "### 7. Handling data imbalance"
   ]
  },
  {
   "cell_type": "code",
   "execution_count": 98,
   "id": "9ed6b328-8740-4a39-98cd-e722fc881a0a",
   "metadata": {},
   "outputs": [
    {
     "data": {
      "text/plain": [
       "Churn\n",
       "No       4151\n",
       "Yes      1483\n",
       "dtype: int64"
      ]
     },
     "execution_count": 98,
     "metadata": {},
     "output_type": "execute_result"
    }
   ],
   "source": [
    "y_train.value_counts()"
   ]
  },
  {
   "cell_type": "code",
   "execution_count": 99,
   "id": "c9a7de94-9616-4f65-91cb-2b7d420a8ead",
   "metadata": {},
   "outputs": [],
   "source": [
    "# function to deal with class imbalances in binary classification\n",
    "# inputs: dfs for training set x, y, sampling method identification string, targeted ratio for maj./min. class for up-/down-/mix-sampling\n",
    "# outputs: balanced training set x, y \n",
    "\n",
    "def class_balancing(imb_X, imb_Y, method='down', ratio=1.5): \n",
    "    # values to navigate target variable\n",
    "    target_col = list(imb_Y.columns.values)[0]\n",
    "    values_sorted = imb_Y[target_col].value_counts()\n",
    "    train_imbalanced = pd.concat([imb_X, imb_Y], axis=1)    \n",
    "    # SMOTE\n",
    "    if method == 'smo':\n",
    "        smote = SMOTE()\n",
    "        bal_X, bal_Y = smote.fit_resample(imb_X, imb_Y) \n",
    "    #TomekLinks\n",
    "    elif method == 'tl':\n",
    "        undersample = TomekLinks()\n",
    "        bal_X, bal_Y = undersample.fit_resample(imb_X, imb_Y)\n",
    "    else:    \n",
    "        # Downsampling\n",
    "        if method == 'down':\n",
    "            sample_size = values_sorted[1]\n",
    "            maj_class = train_imbalanced[train_imbalanced[target_col] == values_sorted.index[0]].sample(round(sample_size*ratio))\n",
    "            min_class = train_imbalanced[train_imbalanced[target_col] == values_sorted.index[1]].sample(sample_size)\n",
    "        # Upsampling    \n",
    "        elif method == 'up':\n",
    "            sample_size = values_sorted[0]\n",
    "            maj_class = train_imbalanced[train_imbalanced[target_col] == values_sorted.index[0]].sample(sample_size)\n",
    "            min_class = train_imbalanced[train_imbalanced[target_col] == values_sorted.index[1]].sample(round(sample_size/ratio), replace=True)\n",
    "        # Mix Up-/Downsampling\n",
    "        elif method == 'mix':\n",
    "            sample_size = values_sorted[1]\n",
    "            imbalance_factor = math.floor(values_sorted[0]/values_sorted[1])\n",
    "            sample_factor = math.floor(imbalance_factor/3)\n",
    "            maj_class = train_imbalanced[train_imbalanced[target_col] == values_sorted.index[0]].sample(round(sample_size*sample_factor*ratio))\n",
    "            min_class = train_imbalanced[train_imbalanced[target_col] == values_sorted.index[1]].sample(round(sample_size*sample_factor), replace=True)\n",
    "          \n",
    "        train_sampled = pd.concat([maj_class, min_class]).sample(frac=1)\n",
    "        # creating dfs of balanced classes to return\n",
    "        bal_X = train_sampled.drop([target_col], axis=1)\n",
    "        bal_Y = pd.DataFrame(train_sampled[target_col])\n",
    "    return bal_X, bal_Y"
   ]
  },
  {
   "cell_type": "code",
   "execution_count": null,
   "id": "a2d1cb03-3e48-482f-b3a4-2f198e43f111",
   "metadata": {},
   "outputs": [],
   "source": []
  },
  {
   "cell_type": "markdown",
   "id": "ea68cd2d-4f46-447c-8875-43603326ab6c",
   "metadata": {},
   "source": [
    "**Model with downsampling**"
   ]
  },
  {
   "cell_type": "code",
   "execution_count": 100,
   "id": "0d86b465-22c0-4cd3-a798-f4ed131482c9",
   "metadata": {},
   "outputs": [],
   "source": [
    "# downsampling\n",
    "X_train_ds, y_train_ds = class_balancing(X_train, y_train, method='down')"
   ]
  },
  {
   "cell_type": "code",
   "execution_count": 101,
   "id": "32c90170-88ec-48f5-ad45-a52206941e03",
   "metadata": {},
   "outputs": [
    {
     "data": {
      "text/plain": [
       "Churn\n",
       "No       2224\n",
       "Yes      1483\n",
       "dtype: int64"
      ]
     },
     "execution_count": 101,
     "metadata": {},
     "output_type": "execute_result"
    }
   ],
   "source": [
    "y_train_ds.value_counts()"
   ]
  },
  {
   "cell_type": "code",
   "execution_count": 102,
   "id": "dd8a012c-f5a3-4a83-928f-1dd2d8ac2ce9",
   "metadata": {},
   "outputs": [
    {
     "data": {
      "image/png": "[encoded data removed]",
      "text/plain": [
       "<Figure size 432x288 with 2 Axes>"
      ]
     },
     "metadata": {
      "needs_background": "light"
     },
     "output_type": "display_data"
    }
   ],
   "source": [
    "# Building model\n",
    "classification = LogisticRegression(random_state=51, max_iter=1000) \n",
    "classification.fit(X_train_ds, y_train_ds)\n",
    "\n",
    "# model evaluation\n",
    "clf_ds_report = clf_evaluation(X_train_ds, y_train_ds, X_test, y_test, classification)"
   ]
  },
  {
   "cell_type": "code",
   "execution_count": 103,
   "id": "2e00c057-ded0-4663-8b22-3633c8e28b19",
   "metadata": {},
   "outputs": [
    {
     "data": {
      "text/html": [
       "<div>\n",
       "<style scoped>\n",
       "    .dataframe tbody tr th:only-of-type {\n",
       "        vertical-align: middle;\n",
       "    }\n",
       "\n",
       "    .dataframe tbody tr th {\n",
       "        vertical-align: top;\n",
       "    }\n",
       "\n",
       "    .dataframe thead th {\n",
       "        text-align: right;\n",
       "    }\n",
       "</style>\n",
       "<table border=\"1\" class=\"dataframe\">\n",
       "  <thead>\n",
       "    <tr style=\"text-align: right;\">\n",
       "      <th></th>\n",
       "      <th>precision</th>\n",
       "      <th>recall</th>\n",
       "      <th>f1-score</th>\n",
       "      <th>AUC</th>\n",
       "      <th>support</th>\n",
       "    </tr>\n",
       "  </thead>\n",
       "  <tbody>\n",
       "    <tr>\n",
       "      <th>No</th>\n",
       "      <td>0.789</td>\n",
       "      <td>0.894</td>\n",
       "      <td>0.838</td>\n",
       "      <td>0.771</td>\n",
       "      <td>1023.000</td>\n",
       "    </tr>\n",
       "    <tr>\n",
       "      <th>Yes</th>\n",
       "      <td>0.566</td>\n",
       "      <td>0.365</td>\n",
       "      <td>0.444</td>\n",
       "      <td>-</td>\n",
       "      <td>386.000</td>\n",
       "    </tr>\n",
       "    <tr>\n",
       "      <th>accuracy</th>\n",
       "      <td>0.749</td>\n",
       "      <td>0.749</td>\n",
       "      <td>0.749</td>\n",
       "      <td>0.749</td>\n",
       "      <td>0.749</td>\n",
       "    </tr>\n",
       "    <tr>\n",
       "      <th>macro avg</th>\n",
       "      <td>0.678</td>\n",
       "      <td>0.630</td>\n",
       "      <td>0.641</td>\n",
       "      <td>-</td>\n",
       "      <td>1409.000</td>\n",
       "    </tr>\n",
       "    <tr>\n",
       "      <th>weighted avg</th>\n",
       "      <td>0.728</td>\n",
       "      <td>0.749</td>\n",
       "      <td>0.730</td>\n",
       "      <td>-</td>\n",
       "      <td>1409.000</td>\n",
       "    </tr>\n",
       "  </tbody>\n",
       "</table>\n",
       "</div>"
      ],
      "text/plain": [
       "              precision  recall  f1-score    AUC   support\n",
       "No                0.789   0.894     0.838  0.771  1023.000\n",
       "Yes               0.566   0.365     0.444      -   386.000\n",
       "accuracy          0.749   0.749     0.749  0.749     0.749\n",
       "macro avg         0.678   0.630     0.641      -  1409.000\n",
       "weighted avg      0.728   0.749     0.730      -  1409.000"
      ]
     },
     "execution_count": 103,
     "metadata": {},
     "output_type": "execute_result"
    }
   ],
   "source": [
    "clf_ds_report"
   ]
  },
  {
   "cell_type": "code",
   "execution_count": null,
   "id": "ff9f7d69-3cd8-407d-a497-f42108a868c8",
   "metadata": {},
   "outputs": [],
   "source": []
  },
  {
   "cell_type": "markdown",
   "id": "7dd13c26-da9a-4278-9cfd-801e22a7e60a",
   "metadata": {},
   "source": [
    "**Model with upsampling**"
   ]
  },
  {
   "cell_type": "code",
   "execution_count": 104,
   "id": "68f15888-fe21-4824-8b0c-605ca54aab54",
   "metadata": {},
   "outputs": [],
   "source": [
    "# upsampling\n",
    "X_train_us, y_train_us = class_balancing(X_train, y_train, method='up')"
   ]
  },
  {
   "cell_type": "code",
   "execution_count": 105,
   "id": "b54bcb9a-ec24-4ae4-af0b-523b80310404",
   "metadata": {},
   "outputs": [
    {
     "data": {
      "text/plain": [
       "Churn\n",
       "No       4151\n",
       "Yes      2767\n",
       "dtype: int64"
      ]
     },
     "execution_count": 105,
     "metadata": {},
     "output_type": "execute_result"
    }
   ],
   "source": [
    "y_train_us.value_counts()"
   ]
  },
  {
   "cell_type": "code",
   "execution_count": 106,
   "id": "095e97d9-d667-4037-9b43-c82d391a2e3f",
   "metadata": {},
   "outputs": [
    {
     "data": {
      "image/png": "[encoded data removed]",
      "text/plain": [
       "<Figure size 432x288 with 2 Axes>"
      ]
     },
     "metadata": {
      "needs_background": "light"
     },
     "output_type": "display_data"
    }
   ],
   "source": [
    "# Building model\n",
    "classification = LogisticRegression(random_state=51, max_iter=1000) \n",
    "classification.fit(X_train_us, y_train_us)\n",
    "\n",
    "# model evaluation\n",
    "clf_us_report = clf_evaluation(X_train_us, y_train_us, X_test, y_test, classification)"
   ]
  },
  {
   "cell_type": "code",
   "execution_count": 107,
   "id": "a068ff76-7227-4579-bea2-bf449929a350",
   "metadata": {},
   "outputs": [
    {
     "data": {
      "text/html": [
       "<div>\n",
       "<style scoped>\n",
       "    .dataframe tbody tr th:only-of-type {\n",
       "        vertical-align: middle;\n",
       "    }\n",
       "\n",
       "    .dataframe tbody tr th {\n",
       "        vertical-align: top;\n",
       "    }\n",
       "\n",
       "    .dataframe thead th {\n",
       "        text-align: right;\n",
       "    }\n",
       "</style>\n",
       "<table border=\"1\" class=\"dataframe\">\n",
       "  <thead>\n",
       "    <tr style=\"text-align: right;\">\n",
       "      <th></th>\n",
       "      <th>precision</th>\n",
       "      <th>recall</th>\n",
       "      <th>f1-score</th>\n",
       "      <th>AUC</th>\n",
       "      <th>support</th>\n",
       "    </tr>\n",
       "  </thead>\n",
       "  <tbody>\n",
       "    <tr>\n",
       "      <th>No</th>\n",
       "      <td>0.792</td>\n",
       "      <td>0.883</td>\n",
       "      <td>0.835</td>\n",
       "      <td>0.78</td>\n",
       "      <td>1023.000</td>\n",
       "    </tr>\n",
       "    <tr>\n",
       "      <th>Yes</th>\n",
       "      <td>0.554</td>\n",
       "      <td>0.386</td>\n",
       "      <td>0.455</td>\n",
       "      <td>-</td>\n",
       "      <td>386.000</td>\n",
       "    </tr>\n",
       "    <tr>\n",
       "      <th>accuracy</th>\n",
       "      <td>0.747</td>\n",
       "      <td>0.747</td>\n",
       "      <td>0.747</td>\n",
       "      <td>0.747</td>\n",
       "      <td>0.747</td>\n",
       "    </tr>\n",
       "    <tr>\n",
       "      <th>macro avg</th>\n",
       "      <td>0.673</td>\n",
       "      <td>0.634</td>\n",
       "      <td>0.645</td>\n",
       "      <td>-</td>\n",
       "      <td>1409.000</td>\n",
       "    </tr>\n",
       "    <tr>\n",
       "      <th>weighted avg</th>\n",
       "      <td>0.727</td>\n",
       "      <td>0.747</td>\n",
       "      <td>0.731</td>\n",
       "      <td>-</td>\n",
       "      <td>1409.000</td>\n",
       "    </tr>\n",
       "  </tbody>\n",
       "</table>\n",
       "</div>"
      ],
      "text/plain": [
       "              precision  recall  f1-score    AUC   support\n",
       "No                0.792   0.883     0.835   0.78  1023.000\n",
       "Yes               0.554   0.386     0.455      -   386.000\n",
       "accuracy          0.747   0.747     0.747  0.747     0.747\n",
       "macro avg         0.673   0.634     0.645      -  1409.000\n",
       "weighted avg      0.727   0.747     0.731      -  1409.000"
      ]
     },
     "execution_count": 107,
     "metadata": {},
     "output_type": "execute_result"
    }
   ],
   "source": [
    "clf_us_report"
   ]
  },
  {
   "cell_type": "code",
   "execution_count": null,
   "id": "5f0d2fb5-199a-4505-b229-4cc992873b27",
   "metadata": {},
   "outputs": [],
   "source": []
  },
  {
   "cell_type": "markdown",
   "id": "5baafcb8-7660-4e4c-98ab-ab86b5bf2130",
   "metadata": {},
   "source": [
    "**Model with SMOTE sampling**"
   ]
  },
  {
   "cell_type": "code",
   "execution_count": 108,
   "id": "24e574f5-8f44-4d53-bde8-4980f71b609f",
   "metadata": {},
   "outputs": [],
   "source": [
    "# SOMTE sampling\n",
    "X_train_smo, y_train_smo = class_balancing(X_train, y_train, method='up')"
   ]
  },
  {
   "cell_type": "code",
   "execution_count": 109,
   "id": "2f183b7f-3431-418c-a167-e777533cfe27",
   "metadata": {},
   "outputs": [
    {
     "data": {
      "text/plain": [
       "Churn\n",
       "No       4151\n",
       "Yes      2767\n",
       "dtype: int64"
      ]
     },
     "execution_count": 109,
     "metadata": {},
     "output_type": "execute_result"
    }
   ],
   "source": [
    "y_train_smo.value_counts()"
   ]
  },
  {
   "cell_type": "code",
   "execution_count": 110,
   "id": "0f7ace01-a2b2-4634-bb8d-00dbd9836d45",
   "metadata": {},
   "outputs": [
    {
     "data": {
      "image/png": "[encoded data removed]",
      "text/plain": [
       "<Figure size 432x288 with 2 Axes>"
      ]
     },
     "metadata": {
      "needs_background": "light"
     },
     "output_type": "display_data"
    }
   ],
   "source": [
    "# Building model\n",
    "classification = LogisticRegression(random_state=51, max_iter=1000) \n",
    "classification.fit(X_train_smo, y_train_smo)\n",
    "\n",
    "# model evaluation\n",
    "clf_smo_report = clf_evaluation(X_train_smo, y_train_smo, X_test, y_test, classification)"
   ]
  },
  {
   "cell_type": "code",
   "execution_count": 111,
   "id": "6c8892f0-e95b-4632-bc6e-9503622e503d",
   "metadata": {},
   "outputs": [
    {
     "data": {
      "text/html": [
       "<div>\n",
       "<style scoped>\n",
       "    .dataframe tbody tr th:only-of-type {\n",
       "        vertical-align: middle;\n",
       "    }\n",
       "\n",
       "    .dataframe tbody tr th {\n",
       "        vertical-align: top;\n",
       "    }\n",
       "\n",
       "    .dataframe thead th {\n",
       "        text-align: right;\n",
       "    }\n",
       "</style>\n",
       "<table border=\"1\" class=\"dataframe\">\n",
       "  <thead>\n",
       "    <tr style=\"text-align: right;\">\n",
       "      <th></th>\n",
       "      <th>precision</th>\n",
       "      <th>recall</th>\n",
       "      <th>f1-score</th>\n",
       "      <th>AUC</th>\n",
       "      <th>support</th>\n",
       "    </tr>\n",
       "  </thead>\n",
       "  <tbody>\n",
       "    <tr>\n",
       "      <th>No</th>\n",
       "      <td>0.791</td>\n",
       "      <td>0.891</td>\n",
       "      <td>0.838</td>\n",
       "      <td>0.782</td>\n",
       "      <td>1023.000</td>\n",
       "    </tr>\n",
       "    <tr>\n",
       "      <th>Yes</th>\n",
       "      <td>0.564</td>\n",
       "      <td>0.376</td>\n",
       "      <td>0.451</td>\n",
       "      <td>-</td>\n",
       "      <td>386.000</td>\n",
       "    </tr>\n",
       "    <tr>\n",
       "      <th>accuracy</th>\n",
       "      <td>0.749</td>\n",
       "      <td>0.749</td>\n",
       "      <td>0.749</td>\n",
       "      <td>0.749</td>\n",
       "      <td>0.749</td>\n",
       "    </tr>\n",
       "    <tr>\n",
       "      <th>macro avg</th>\n",
       "      <td>0.678</td>\n",
       "      <td>0.633</td>\n",
       "      <td>0.644</td>\n",
       "      <td>-</td>\n",
       "      <td>1409.000</td>\n",
       "    </tr>\n",
       "    <tr>\n",
       "      <th>weighted avg</th>\n",
       "      <td>0.729</td>\n",
       "      <td>0.749</td>\n",
       "      <td>0.732</td>\n",
       "      <td>-</td>\n",
       "      <td>1409.000</td>\n",
       "    </tr>\n",
       "  </tbody>\n",
       "</table>\n",
       "</div>"
      ],
      "text/plain": [
       "              precision  recall  f1-score    AUC   support\n",
       "No                0.791   0.891     0.838  0.782  1023.000\n",
       "Yes               0.564   0.376     0.451      -   386.000\n",
       "accuracy          0.749   0.749     0.749  0.749     0.749\n",
       "macro avg         0.678   0.633     0.644      -  1409.000\n",
       "weighted avg      0.729   0.749     0.732      -  1409.000"
      ]
     },
     "execution_count": 111,
     "metadata": {},
     "output_type": "execute_result"
    }
   ],
   "source": [
    "clf_smo_report"
   ]
  },
  {
   "cell_type": "code",
   "execution_count": null,
   "id": "cc6bc454-b671-4502-9fff-f19d4cfab9dc",
   "metadata": {},
   "outputs": [],
   "source": []
  }
 ],
 "metadata": {
  "kernelspec": {
   "display_name": "Python3Brew",
   "language": "python",
   "name": "python3brew"
  },
  "language_info": {
   "codemirror_mode": {
    "name": "ipython",
    "version": 3
   },
   "file_extension": ".py",
   "mimetype": "text/x-python",
   "name": "python",
   "nbconvert_exporter": "python",
   "pygments_lexer": "ipython3",
   "version": "3.9.4"
  }
 },
 "nbformat": 4,
 "nbformat_minor": 5
}
