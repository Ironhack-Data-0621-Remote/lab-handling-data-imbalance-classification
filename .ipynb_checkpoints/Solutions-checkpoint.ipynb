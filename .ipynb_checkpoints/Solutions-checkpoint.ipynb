{
 "cells": [
  {
   "cell_type": "markdown",
   "id": "76797888-25f6-4304-afd7-007e76596f5f",
   "metadata": {},
   "source": [
    "# Lab | Handling Data Imbalance in Classification Models\n",
    "\n",
    "For this lab and in the next lessons we will build a model on customer churn binary classification problem. You will be using `files_for_lab/Customer-Churn.csv` file.\n",
    "\n",
    "### Scenario\n",
    "\n",
    "You are working as an analyst with this internet service provider. You are provided with this historical data about your company's customers and their churn trends. Your task is to build a machine learning model that will help the company identify customers that are more likely to default/churn and thus prevent losses from such customers.\n"
   ]
  },
  {
   "cell_type": "markdown",
   "id": "45060883-e4d8-4934-8a9f-d5e5664b3e60",
   "metadata": {},
   "source": [
    "### Libraries"
   ]
  },
  {
   "cell_type": "code",
   "execution_count": 43,
   "id": "463dc85b-306d-4c6a-8932-fc54127158b6",
   "metadata": {},
   "outputs": [],
   "source": [
    "import pandas as pd\n",
    "pd.set_option('display.max_columns', None)\n",
    "import numpy as np\n",
    "\n",
    "import seaborn as sns\n",
    "\n",
    "from sklearn import metrics\n",
    "from sklearn.metrics import confusion_matrix\n",
    "from sklearn.model_selection import train_test_split\n",
    "from sklearn.linear_model import LogisticRegression\n",
    "from sklearn.preprocessing import StandardScaler\n",
    "\n",
    "from imblearn.over_sampling import SMOTE \n",
    "from imblearn.under_sampling import TomekLinks\n",
    "\n",
    "import warnings\n",
    "warnings.filterwarnings('ignore')"
   ]
  },
  {
   "cell_type": "markdown",
   "id": "cf7199e3-bffd-4824-aa77-4f24d2f624f0",
   "metadata": {},
   "source": [
    "### Data import"
   ]
  },
  {
   "cell_type": "code",
   "execution_count": 2,
   "id": "90e79d5d-c8c7-4c4c-8f77-23a415e697f6",
   "metadata": {},
   "outputs": [
    {
     "data": {
      "text/html": [
       "<div>\n",
       "<style scoped>\n",
       "    .dataframe tbody tr th:only-of-type {\n",
       "        vertical-align: middle;\n",
       "    }\n",
       "\n",
       "    .dataframe tbody tr th {\n",
       "        vertical-align: top;\n",
       "    }\n",
       "\n",
       "    .dataframe thead th {\n",
       "        text-align: right;\n",
       "    }\n",
       "</style>\n",
       "<table border=\"1\" class=\"dataframe\">\n",
       "  <thead>\n",
       "    <tr style=\"text-align: right;\">\n",
       "      <th></th>\n",
       "      <th>gender</th>\n",
       "      <th>SeniorCitizen</th>\n",
       "      <th>Partner</th>\n",
       "      <th>Dependents</th>\n",
       "      <th>tenure</th>\n",
       "      <th>PhoneService</th>\n",
       "      <th>OnlineSecurity</th>\n",
       "      <th>OnlineBackup</th>\n",
       "      <th>DeviceProtection</th>\n",
       "      <th>TechSupport</th>\n",
       "      <th>StreamingTV</th>\n",
       "      <th>StreamingMovies</th>\n",
       "      <th>Contract</th>\n",
       "      <th>MonthlyCharges</th>\n",
       "      <th>TotalCharges</th>\n",
       "      <th>Churn</th>\n",
       "    </tr>\n",
       "  </thead>\n",
       "  <tbody>\n",
       "    <tr>\n",
       "      <th>0</th>\n",
       "      <td>Female</td>\n",
       "      <td>0</td>\n",
       "      <td>Yes</td>\n",
       "      <td>No</td>\n",
       "      <td>1</td>\n",
       "      <td>No</td>\n",
       "      <td>No</td>\n",
       "      <td>Yes</td>\n",
       "      <td>No</td>\n",
       "      <td>No</td>\n",
       "      <td>No</td>\n",
       "      <td>No</td>\n",
       "      <td>Month-to-month</td>\n",
       "      <td>29.85</td>\n",
       "      <td>29.85</td>\n",
       "      <td>No</td>\n",
       "    </tr>\n",
       "    <tr>\n",
       "      <th>1</th>\n",
       "      <td>Male</td>\n",
       "      <td>0</td>\n",
       "      <td>No</td>\n",
       "      <td>No</td>\n",
       "      <td>34</td>\n",
       "      <td>Yes</td>\n",
       "      <td>Yes</td>\n",
       "      <td>No</td>\n",
       "      <td>Yes</td>\n",
       "      <td>No</td>\n",
       "      <td>No</td>\n",
       "      <td>No</td>\n",
       "      <td>One year</td>\n",
       "      <td>56.95</td>\n",
       "      <td>1889.5</td>\n",
       "      <td>No</td>\n",
       "    </tr>\n",
       "    <tr>\n",
       "      <th>2</th>\n",
       "      <td>Male</td>\n",
       "      <td>0</td>\n",
       "      <td>No</td>\n",
       "      <td>No</td>\n",
       "      <td>2</td>\n",
       "      <td>Yes</td>\n",
       "      <td>Yes</td>\n",
       "      <td>Yes</td>\n",
       "      <td>No</td>\n",
       "      <td>No</td>\n",
       "      <td>No</td>\n",
       "      <td>No</td>\n",
       "      <td>Month-to-month</td>\n",
       "      <td>53.85</td>\n",
       "      <td>108.15</td>\n",
       "      <td>Yes</td>\n",
       "    </tr>\n",
       "    <tr>\n",
       "      <th>3</th>\n",
       "      <td>Male</td>\n",
       "      <td>0</td>\n",
       "      <td>No</td>\n",
       "      <td>No</td>\n",
       "      <td>45</td>\n",
       "      <td>No</td>\n",
       "      <td>Yes</td>\n",
       "      <td>No</td>\n",
       "      <td>Yes</td>\n",
       "      <td>Yes</td>\n",
       "      <td>No</td>\n",
       "      <td>No</td>\n",
       "      <td>One year</td>\n",
       "      <td>42.30</td>\n",
       "      <td>1840.75</td>\n",
       "      <td>No</td>\n",
       "    </tr>\n",
       "    <tr>\n",
       "      <th>4</th>\n",
       "      <td>Female</td>\n",
       "      <td>0</td>\n",
       "      <td>No</td>\n",
       "      <td>No</td>\n",
       "      <td>2</td>\n",
       "      <td>Yes</td>\n",
       "      <td>No</td>\n",
       "      <td>No</td>\n",
       "      <td>No</td>\n",
       "      <td>No</td>\n",
       "      <td>No</td>\n",
       "      <td>No</td>\n",
       "      <td>Month-to-month</td>\n",
       "      <td>70.70</td>\n",
       "      <td>151.65</td>\n",
       "      <td>Yes</td>\n",
       "    </tr>\n",
       "  </tbody>\n",
       "</table>\n",
       "</div>"
      ],
      "text/plain": [
       "   gender  SeniorCitizen Partner Dependents  tenure PhoneService  \\\n",
       "0  Female              0     Yes         No       1           No   \n",
       "1    Male              0      No         No      34          Yes   \n",
       "2    Male              0      No         No       2          Yes   \n",
       "3    Male              0      No         No      45           No   \n",
       "4  Female              0      No         No       2          Yes   \n",
       "\n",
       "  OnlineSecurity OnlineBackup DeviceProtection TechSupport StreamingTV  \\\n",
       "0             No          Yes               No          No          No   \n",
       "1            Yes           No              Yes          No          No   \n",
       "2            Yes          Yes               No          No          No   \n",
       "3            Yes           No              Yes         Yes          No   \n",
       "4             No           No               No          No          No   \n",
       "\n",
       "  StreamingMovies        Contract  MonthlyCharges TotalCharges Churn  \n",
       "0              No  Month-to-month           29.85        29.85    No  \n",
       "1              No        One year           56.95       1889.5    No  \n",
       "2              No  Month-to-month           53.85       108.15   Yes  \n",
       "3              No        One year           42.30      1840.75    No  \n",
       "4              No  Month-to-month           70.70       151.65   Yes  "
      ]
     },
     "execution_count": 2,
     "metadata": {},
     "output_type": "execute_result"
    }
   ],
   "source": [
    "churnData = pd.read_csv('Customer-Churn.csv')\n",
    "churnData.head()"
   ]
  },
  {
   "cell_type": "code",
   "execution_count": 3,
   "id": "f2fc4a68-55fe-4b3e-9628-df61ab3b31c6",
   "metadata": {},
   "outputs": [
    {
     "data": {
      "text/plain": [
       "(7043, 16)"
      ]
     },
     "execution_count": 3,
     "metadata": {},
     "output_type": "execute_result"
    }
   ],
   "source": [
    "churnData.shape"
   ]
  },
  {
   "cell_type": "markdown",
   "id": "bf560c72-3bf9-405b-b3cb-63f2e509a634",
   "metadata": {},
   "source": [
    "### Data info"
   ]
  },
  {
   "cell_type": "code",
   "execution_count": 4,
   "id": "f46fc2f3-11db-4a95-849b-752b6f2bf0c1",
   "metadata": {},
   "outputs": [
    {
     "name": "stdout",
     "output_type": "stream",
     "text": [
      "<class 'pandas.core.frame.DataFrame'>\n",
      "RangeIndex: 7043 entries, 0 to 7042\n",
      "Data columns (total 16 columns):\n",
      " #   Column            Non-Null Count  Dtype  \n",
      "---  ------            --------------  -----  \n",
      " 0   gender            7043 non-null   object \n",
      " 1   SeniorCitizen     7043 non-null   int64  \n",
      " 2   Partner           7043 non-null   object \n",
      " 3   Dependents        7043 non-null   object \n",
      " 4   tenure            7043 non-null   int64  \n",
      " 5   PhoneService      7043 non-null   object \n",
      " 6   OnlineSecurity    7043 non-null   object \n",
      " 7   OnlineBackup      7043 non-null   object \n",
      " 8   DeviceProtection  7043 non-null   object \n",
      " 9   TechSupport       7043 non-null   object \n",
      " 10  StreamingTV       7043 non-null   object \n",
      " 11  StreamingMovies   7043 non-null   object \n",
      " 12  Contract          7043 non-null   object \n",
      " 13  MonthlyCharges    7043 non-null   float64\n",
      " 14  TotalCharges      7043 non-null   object \n",
      " 15  Churn             7043 non-null   object \n",
      "dtypes: float64(1), int64(2), object(13)\n",
      "memory usage: 880.5+ KB\n"
     ]
    }
   ],
   "source": [
    "churnData.info()"
   ]
  },
  {
   "cell_type": "markdown",
   "id": "6b2bf6cb-882d-4f2b-8a00-014774daa745",
   "metadata": {},
   "source": [
    "### Changing column type"
   ]
  },
  {
   "cell_type": "code",
   "execution_count": 5,
   "id": "3aaf5b69-8e9d-4e35-b92e-691673f7d9f0",
   "metadata": {},
   "outputs": [],
   "source": [
    "churnData['TotalCharges'] = pd.to_numeric(churnData['TotalCharges'], errors='coerce')"
   ]
  },
  {
   "cell_type": "code",
   "execution_count": 6,
   "id": "2d0e86ea-ac1d-4b81-be9a-6985d9e80884",
   "metadata": {},
   "outputs": [
    {
     "name": "stdout",
     "output_type": "stream",
     "text": [
      "<class 'pandas.core.frame.DataFrame'>\n",
      "RangeIndex: 7043 entries, 0 to 7042\n",
      "Data columns (total 16 columns):\n",
      " #   Column            Non-Null Count  Dtype  \n",
      "---  ------            --------------  -----  \n",
      " 0   gender            7043 non-null   object \n",
      " 1   SeniorCitizen     7043 non-null   int64  \n",
      " 2   Partner           7043 non-null   object \n",
      " 3   Dependents        7043 non-null   object \n",
      " 4   tenure            7043 non-null   int64  \n",
      " 5   PhoneService      7043 non-null   object \n",
      " 6   OnlineSecurity    7043 non-null   object \n",
      " 7   OnlineBackup      7043 non-null   object \n",
      " 8   DeviceProtection  7043 non-null   object \n",
      " 9   TechSupport       7043 non-null   object \n",
      " 10  StreamingTV       7043 non-null   object \n",
      " 11  StreamingMovies   7043 non-null   object \n",
      " 12  Contract          7043 non-null   object \n",
      " 13  MonthlyCharges    7043 non-null   float64\n",
      " 14  TotalCharges      7032 non-null   float64\n",
      " 15  Churn             7043 non-null   object \n",
      "dtypes: float64(2), int64(2), object(12)\n",
      "memory usage: 880.5+ KB\n"
     ]
    }
   ],
   "source": [
    "churnData.info()"
   ]
  },
  {
   "cell_type": "markdown",
   "id": "7cb64697-a94c-4b43-9bd1-3eb7d3edfd06",
   "metadata": {},
   "source": [
    "### Null values"
   ]
  },
  {
   "cell_type": "code",
   "execution_count": 7,
   "id": "1ea0dab8-6f11-4c73-849a-1045f88baaa3",
   "metadata": {},
   "outputs": [
    {
     "data": {
      "text/plain": [
       "gender               0\n",
       "SeniorCitizen        0\n",
       "Partner              0\n",
       "Dependents           0\n",
       "tenure               0\n",
       "PhoneService         0\n",
       "OnlineSecurity       0\n",
       "OnlineBackup         0\n",
       "DeviceProtection     0\n",
       "TechSupport          0\n",
       "StreamingTV          0\n",
       "StreamingMovies      0\n",
       "Contract             0\n",
       "MonthlyCharges       0\n",
       "TotalCharges        11\n",
       "Churn                0\n",
       "dtype: int64"
      ]
     },
     "execution_count": 7,
     "metadata": {},
     "output_type": "execute_result"
    }
   ],
   "source": [
    "churnData.isna().sum()"
   ]
  },
  {
   "cell_type": "code",
   "execution_count": 8,
   "id": "ac67bc95-0750-4530-8c56-c8f27b85a8a0",
   "metadata": {},
   "outputs": [
    {
     "data": {
      "text/plain": [
       "2283.3004408418656"
      ]
     },
     "execution_count": 8,
     "metadata": {},
     "output_type": "execute_result"
    }
   ],
   "source": [
    "churnData['TotalCharges'].mean()"
   ]
  },
  {
   "cell_type": "code",
   "execution_count": 9,
   "id": "3876e8f2-c852-4317-929b-b4818db3e8b1",
   "metadata": {},
   "outputs": [],
   "source": [
    "churnData['TotalCharges'] = churnData['TotalCharges'].fillna(churnData['TotalCharges'].mean())"
   ]
  },
  {
   "cell_type": "code",
   "execution_count": 10,
   "id": "291f8739-4685-4267-88e2-b1dcd13ecea8",
   "metadata": {},
   "outputs": [
    {
     "data": {
      "text/plain": [
       "gender              0\n",
       "SeniorCitizen       0\n",
       "Partner             0\n",
       "Dependents          0\n",
       "tenure              0\n",
       "PhoneService        0\n",
       "OnlineSecurity      0\n",
       "OnlineBackup        0\n",
       "DeviceProtection    0\n",
       "TechSupport         0\n",
       "StreamingTV         0\n",
       "StreamingMovies     0\n",
       "Contract            0\n",
       "MonthlyCharges      0\n",
       "TotalCharges        0\n",
       "Churn               0\n",
       "dtype: int64"
      ]
     },
     "execution_count": 10,
     "metadata": {},
     "output_type": "execute_result"
    }
   ],
   "source": [
    "churnData.isna().sum()"
   ]
  },
  {
   "cell_type": "markdown",
   "id": "6b4ea8b4-538e-44b1-91c6-37ebb605ea0e",
   "metadata": {},
   "source": [
    "### X-y-split"
   ]
  },
  {
   "cell_type": "code",
   "execution_count": 11,
   "id": "554dc0aa-172e-423b-89aa-d2f97e14c126",
   "metadata": {},
   "outputs": [],
   "source": [
    "X = churnData[['tenure', 'SeniorCitizen', 'MonthlyCharges', 'TotalCharges']]\n",
    "y = churnData['Churn']"
   ]
  },
  {
   "cell_type": "markdown",
   "id": "23d3c492-1c00-49a2-bdbb-525f96e6c6d8",
   "metadata": {},
   "source": [
    "### Train-test-split"
   ]
  },
  {
   "cell_type": "code",
   "execution_count": 12,
   "id": "ffde7782-d678-4175-94a4-96a0479269af",
   "metadata": {},
   "outputs": [],
   "source": [
    "X_train, X_test, y_train, y_test = train_test_split(X, y, test_size=0.2, random_state=42)"
   ]
  },
  {
   "cell_type": "markdown",
   "id": "ab820936-8a95-4525-99f9-4083f78491af",
   "metadata": {},
   "source": [
    "### Scaling the data"
   ]
  },
  {
   "cell_type": "code",
   "execution_count": 13,
   "id": "d941d21e-2d62-4b5b-81c7-fa757624f895",
   "metadata": {},
   "outputs": [],
   "source": [
    "scaler = StandardScaler()\n",
    "X_train = scaler.fit_transform(X_train)\n",
    "X_test = scaler.transform(X_test)"
   ]
  },
  {
   "cell_type": "code",
   "execution_count": 14,
   "id": "bbfae2cb-e5be-40c0-a73d-bb02f5a79b81",
   "metadata": {},
   "outputs": [],
   "source": [
    "X_train = pd.DataFrame(X_train)\n",
    "X_test = pd.DataFrame(X_test)"
   ]
  },
  {
   "cell_type": "markdown",
   "id": "5b460dc5-25b8-45cc-b0e3-0aac4cf804b9",
   "metadata": {},
   "source": [
    "### Logistic Regression model"
   ]
  },
  {
   "cell_type": "code",
   "execution_count": 15,
   "id": "4f92d59a-d22f-48c7-8f6c-91c5e3703273",
   "metadata": {},
   "outputs": [],
   "source": [
    "def classification_model(X_train, y_train, X_test, y_test, w):\n",
    "    classification = LogisticRegression(random_state=13, max_iter=500, class_weight=w) \n",
    "    classification.fit(X_train, y_train)\n",
    "    \n",
    "    score_class = classification.score(X_test, y_test)\n",
    "    \n",
    "    predictions = classification.predict(X_test)\n",
    "    value_cnt_class = pd.Series(predictions).value_counts()\n",
    "    \n",
    "    print('The accuracy score is: ', score_class, '\\n')\n",
    "    print('The value counts of the model predictions are: ', '\\n', value_cnt_class) "
   ]
  },
  {
   "cell_type": "code",
   "execution_count": 16,
   "id": "4ddadf40-396c-4277-8809-506d202342f6",
   "metadata": {},
   "outputs": [],
   "source": [
    "def metrics_classification(X_train, y_train, X_test, y_test, w):\n",
    "    \n",
    "    classification = LogisticRegression(random_state=42, max_iter=500, class_weight=w) \n",
    "    classification.fit(X_train, y_train)\n",
    "    \n",
    "    predictions = classification.predict(X_test)\n",
    "    \n",
    "    #confusion matrix\n",
    "    cf_matrix = confusion_matrix(y_test, predictions)\n",
    "    group_names = ['True A', 'False A',\n",
    "                   'False B', 'True B']\n",
    "\n",
    "    group_counts = [\"{0:0.0f}\".format(value) for value in cf_matrix.flatten()]\n",
    "    group_percentages = [\"{0:.2%}\".format(value) for value in cf_matrix.flatten()/np.sum(cf_matrix)]\n",
    "    labels = [f\"{v1}\\n{v2}\\n{v3}\" for v1, v2, v3 in zip(group_names,group_counts,group_percentages)]\n",
    "    labels = np.asarray(labels).reshape(2,2)\n",
    "    \n",
    "    print('Confusion matrix:')\n",
    "    sns.heatmap(cf_matrix, annot=labels, fmt='', cmap='Blues')\n",
    "    \n",
    "    \n",
    "    #classification report\n",
    "    metrics_class = metrics.classification_report(y_test, predictions)\n",
    "    print('Classification report:', '\\n')\n",
    "    print(metrics_class)  "
   ]
  },
  {
   "cell_type": "code",
   "execution_count": 17,
   "id": "07a33702-5487-4167-94b5-9fdf71dbff12",
   "metadata": {},
   "outputs": [
    {
     "name": "stdout",
     "output_type": "stream",
     "text": [
      "The accuracy score is:  0.8076650106458482 \n",
      "\n",
      "The value counts of the model predictions are:  \n",
      " No     1153\n",
      "Yes     256\n",
      "dtype: int64\n"
     ]
    }
   ],
   "source": [
    "classification_model(X_train, y_train, X_test, y_test, w=None)"
   ]
  },
  {
   "cell_type": "code",
   "execution_count": 18,
   "id": "e2f6c3be-b018-4ac9-8e86-13ab0ff7f6ea",
   "metadata": {},
   "outputs": [
    {
     "name": "stdout",
     "output_type": "stream",
     "text": [
      "Confusion matrix:\n",
      "Classification report: \n",
      "\n",
      "              precision    recall  f1-score   support\n",
      "\n",
      "          No       0.83      0.93      0.88      1036\n",
      "         Yes       0.70      0.48      0.57       373\n",
      "\n",
      "    accuracy                           0.81      1409\n",
      "   macro avg       0.77      0.70      0.72      1409\n",
      "weighted avg       0.80      0.81      0.79      1409\n",
      "\n"
     ]
    },
    {
     "data": {
      "image/png": "[encoded data removed]",
      "text/plain": [
       "<Figure size 432x288 with 2 Axes>"
      ]
     },
     "metadata": {
      "needs_background": "light"
     },
     "output_type": "display_data"
    }
   ],
   "source": [
    "metrics_classification(X_train, y_train, X_test, y_test, w=None)"
   ]
  },
  {
   "cell_type": "markdown",
   "id": "80652154-82df-45d6-9e43-d47c8e46cea1",
   "metadata": {},
   "source": [
    "## Balancing imbalance of the data"
   ]
  },
  {
   "cell_type": "markdown",
   "id": "0396c7c3-af41-4f8c-80f2-fb4e868fe031",
   "metadata": {},
   "source": [
    "### Upsampling"
   ]
  },
  {
   "cell_type": "code",
   "execution_count": 27,
   "id": "02e90d46-688f-4da6-aca0-7f0d6da900d0",
   "metadata": {},
   "outputs": [
    {
     "data": {
      "text/html": [
       "<div>\n",
       "<style scoped>\n",
       "    .dataframe tbody tr th:only-of-type {\n",
       "        vertical-align: middle;\n",
       "    }\n",
       "\n",
       "    .dataframe tbody tr th {\n",
       "        vertical-align: top;\n",
       "    }\n",
       "\n",
       "    .dataframe thead th {\n",
       "        text-align: right;\n",
       "    }\n",
       "</style>\n",
       "<table border=\"1\" class=\"dataframe\">\n",
       "  <thead>\n",
       "    <tr style=\"text-align: right;\">\n",
       "      <th></th>\n",
       "      <th>Churn</th>\n",
       "    </tr>\n",
       "  </thead>\n",
       "  <tbody>\n",
       "    <tr>\n",
       "      <th>0</th>\n",
       "      <td>No</td>\n",
       "    </tr>\n",
       "    <tr>\n",
       "      <th>1</th>\n",
       "      <td>No</td>\n",
       "    </tr>\n",
       "    <tr>\n",
       "      <th>2</th>\n",
       "      <td>Yes</td>\n",
       "    </tr>\n",
       "    <tr>\n",
       "      <th>3</th>\n",
       "      <td>Yes</td>\n",
       "    </tr>\n",
       "    <tr>\n",
       "      <th>4</th>\n",
       "      <td>No</td>\n",
       "    </tr>\n",
       "    <tr>\n",
       "      <th>...</th>\n",
       "      <td>...</td>\n",
       "    </tr>\n",
       "    <tr>\n",
       "      <th>5629</th>\n",
       "      <td>Yes</td>\n",
       "    </tr>\n",
       "    <tr>\n",
       "      <th>5630</th>\n",
       "      <td>No</td>\n",
       "    </tr>\n",
       "    <tr>\n",
       "      <th>5631</th>\n",
       "      <td>No</td>\n",
       "    </tr>\n",
       "    <tr>\n",
       "      <th>5632</th>\n",
       "      <td>Yes</td>\n",
       "    </tr>\n",
       "    <tr>\n",
       "      <th>5633</th>\n",
       "      <td>No</td>\n",
       "    </tr>\n",
       "  </tbody>\n",
       "</table>\n",
       "<p>5634 rows × 1 columns</p>\n",
       "</div>"
      ],
      "text/plain": [
       "     Churn\n",
       "0       No\n",
       "1       No\n",
       "2      Yes\n",
       "3      Yes\n",
       "4       No\n",
       "...    ...\n",
       "5629   Yes\n",
       "5630    No\n",
       "5631    No\n",
       "5632   Yes\n",
       "5633    No\n",
       "\n",
       "[5634 rows x 1 columns]"
      ]
     },
     "execution_count": 27,
     "metadata": {},
     "output_type": "execute_result"
    }
   ],
   "source": [
    "y_train = pd.DataFrame(y_train).reset_index()\n",
    "y_train = y_train.drop('index', axis=1)\n",
    "y_train"
   ]
  },
  {
   "cell_type": "code",
   "execution_count": 28,
   "id": "f8f8e6de-5046-44a6-932a-a2427b3d0e0a",
   "metadata": {},
   "outputs": [
    {
     "data": {
      "text/html": [
       "<div>\n",
       "<style scoped>\n",
       "    .dataframe tbody tr th:only-of-type {\n",
       "        vertical-align: middle;\n",
       "    }\n",
       "\n",
       "    .dataframe tbody tr th {\n",
       "        vertical-align: top;\n",
       "    }\n",
       "\n",
       "    .dataframe thead th {\n",
       "        text-align: right;\n",
       "    }\n",
       "</style>\n",
       "<table border=\"1\" class=\"dataframe\">\n",
       "  <thead>\n",
       "    <tr style=\"text-align: right;\">\n",
       "      <th></th>\n",
       "      <th>0</th>\n",
       "      <th>1</th>\n",
       "      <th>2</th>\n",
       "      <th>3</th>\n",
       "      <th>Churn</th>\n",
       "    </tr>\n",
       "  </thead>\n",
       "  <tbody>\n",
       "    <tr>\n",
       "      <th>0</th>\n",
       "      <td>-0.465683</td>\n",
       "      <td>-0.437749</td>\n",
       "      <td>-0.000474</td>\n",
       "      <td>-0.422099</td>\n",
       "      <td>No</td>\n",
       "    </tr>\n",
       "    <tr>\n",
       "      <th>1</th>\n",
       "      <td>0.885537</td>\n",
       "      <td>-0.437749</td>\n",
       "      <td>1.074754</td>\n",
       "      <td>1.255366</td>\n",
       "      <td>No</td>\n",
       "    </tr>\n",
       "    <tr>\n",
       "      <th>2</th>\n",
       "      <td>-1.284605</td>\n",
       "      <td>-0.437749</td>\n",
       "      <td>-1.376499</td>\n",
       "      <td>-1.002985</td>\n",
       "      <td>Yes</td>\n",
       "    </tr>\n",
       "    <tr>\n",
       "      <th>3</th>\n",
       "      <td>-1.161766</td>\n",
       "      <td>-0.437749</td>\n",
       "      <td>0.177346</td>\n",
       "      <td>-0.908113</td>\n",
       "      <td>Yes</td>\n",
       "    </tr>\n",
       "    <tr>\n",
       "      <th>4</th>\n",
       "      <td>-1.325551</td>\n",
       "      <td>-0.437749</td>\n",
       "      <td>-0.098524</td>\n",
       "      <td>-0.003468</td>\n",
       "      <td>No</td>\n",
       "    </tr>\n",
       "    <tr>\n",
       "      <th>...</th>\n",
       "      <td>...</td>\n",
       "      <td>...</td>\n",
       "      <td>...</td>\n",
       "      <td>...</td>\n",
       "      <td>...</td>\n",
       "    </tr>\n",
       "    <tr>\n",
       "      <th>5629</th>\n",
       "      <td>-1.284605</td>\n",
       "      <td>-0.437749</td>\n",
       "      <td>1.001632</td>\n",
       "      <td>-0.971339</td>\n",
       "      <td>Yes</td>\n",
       "    </tr>\n",
       "    <tr>\n",
       "      <th>5630</th>\n",
       "      <td>-0.383791</td>\n",
       "      <td>-0.437749</td>\n",
       "      <td>0.872006</td>\n",
       "      <td>-0.041063</td>\n",
       "      <td>No</td>\n",
       "    </tr>\n",
       "    <tr>\n",
       "      <th>5631</th>\n",
       "      <td>-0.834198</td>\n",
       "      <td>-0.437749</td>\n",
       "      <td>-1.452945</td>\n",
       "      <td>-0.877993</td>\n",
       "      <td>No</td>\n",
       "    </tr>\n",
       "    <tr>\n",
       "      <th>5632</th>\n",
       "      <td>-0.834198</td>\n",
       "      <td>2.284413</td>\n",
       "      <td>1.149538</td>\n",
       "      <td>-0.482538</td>\n",
       "      <td>Yes</td>\n",
       "    </tr>\n",
       "    <tr>\n",
       "      <th>5633</th>\n",
       "      <td>-0.260953</td>\n",
       "      <td>-0.437749</td>\n",
       "      <td>-1.497815</td>\n",
       "      <td>-0.811096</td>\n",
       "      <td>No</td>\n",
       "    </tr>\n",
       "  </tbody>\n",
       "</table>\n",
       "<p>5634 rows × 5 columns</p>\n",
       "</div>"
      ],
      "text/plain": [
       "             0         1         2         3 Churn\n",
       "0    -0.465683 -0.437749 -0.000474 -0.422099    No\n",
       "1     0.885537 -0.437749  1.074754  1.255366    No\n",
       "2    -1.284605 -0.437749 -1.376499 -1.002985   Yes\n",
       "3    -1.161766 -0.437749  0.177346 -0.908113   Yes\n",
       "4    -1.325551 -0.437749 -0.098524 -0.003468    No\n",
       "...        ...       ...       ...       ...   ...\n",
       "5629 -1.284605 -0.437749  1.001632 -0.971339   Yes\n",
       "5630 -0.383791 -0.437749  0.872006 -0.041063    No\n",
       "5631 -0.834198 -0.437749 -1.452945 -0.877993    No\n",
       "5632 -0.834198  2.284413  1.149538 -0.482538   Yes\n",
       "5633 -0.260953 -0.437749 -1.497815 -0.811096    No\n",
       "\n",
       "[5634 rows x 5 columns]"
      ]
     },
     "execution_count": 28,
     "metadata": {},
     "output_type": "execute_result"
    }
   ],
   "source": [
    "data_up = pd.concat([X_train, y_train], axis=1)\n",
    "data_up"
   ]
  },
  {
   "cell_type": "code",
   "execution_count": 29,
   "id": "8da5f158-2545-47aa-9bdd-3ee207f2a889",
   "metadata": {},
   "outputs": [
    {
     "data": {
      "text/plain": [
       "(2306, 5)"
      ]
     },
     "execution_count": 29,
     "metadata": {},
     "output_type": "execute_result"
    }
   ],
   "source": [
    "A = data_up[data_up['Churn'] == 'Yes'].sample(1153) \n",
    "B = data_up[data_up['Churn'] == 'No'].sample(1153, replace=True)\n",
    "\n",
    "\n",
    "upsampled = pd.concat([A, B]).sample(frac=1) # .sample(frac=1) here is just to shuffle the dataframe\n",
    "upsampled.shape"
   ]
  },
  {
   "cell_type": "code",
   "execution_count": 30,
   "id": "b3b649e4-1f36-4c06-b2ed-6396076592b3",
   "metadata": {},
   "outputs": [],
   "source": [
    "X_train_up = upsampled.drop(['Churn'], axis=1)\n",
    "y_train_up = upsampled['Churn']"
   ]
  },
  {
   "cell_type": "code",
   "execution_count": 31,
   "id": "34765774-7e5a-4d13-8927-5da37780ca7b",
   "metadata": {},
   "outputs": [
    {
     "name": "stdout",
     "output_type": "stream",
     "text": [
      "The accuracy score is:  0.7487579843860894 \n",
      "\n",
      "The value counts of the model predictions are:  \n",
      " No     850\n",
      "Yes    559\n",
      "dtype: int64\n"
     ]
    }
   ],
   "source": [
    "classification_model(X_train_up, y_train_up, X_test, y_test, w=None)"
   ]
  },
  {
   "cell_type": "code",
   "execution_count": 32,
   "id": "d9aa64fb-1985-417e-8c17-7a085a4795a3",
   "metadata": {},
   "outputs": [
    {
     "name": "stdout",
     "output_type": "stream",
     "text": [
      "Confusion matrix:\n",
      "Classification report: \n",
      "\n",
      "              precision    recall  f1-score   support\n",
      "\n",
      "          No       0.90      0.74      0.81      1036\n",
      "         Yes       0.52      0.77      0.62       373\n",
      "\n",
      "    accuracy                           0.75      1409\n",
      "   macro avg       0.71      0.76      0.72      1409\n",
      "weighted avg       0.80      0.75      0.76      1409\n",
      "\n"
     ]
    },
    {
     "data": {
      "image/png": "[encoded data removed]",
      "text/plain": [
       "<Figure size 432x288 with 2 Axes>"
      ]
     },
     "metadata": {
      "needs_background": "light"
     },
     "output_type": "display_data"
    }
   ],
   "source": [
    "metrics_classification(X_train_up, y_train_up, X_test, y_test, w=None)"
   ]
  },
  {
   "cell_type": "markdown",
   "id": "da088457-d749-4e4c-8eb2-a9eef0ac2635",
   "metadata": {},
   "source": [
    "### Downsampling"
   ]
  },
  {
   "cell_type": "code",
   "execution_count": 33,
   "id": "64fc2349-a248-4dc8-abcd-1db2c129cdeb",
   "metadata": {},
   "outputs": [
    {
     "data": {
      "text/html": [
       "<div>\n",
       "<style scoped>\n",
       "    .dataframe tbody tr th:only-of-type {\n",
       "        vertical-align: middle;\n",
       "    }\n",
       "\n",
       "    .dataframe tbody tr th {\n",
       "        vertical-align: top;\n",
       "    }\n",
       "\n",
       "    .dataframe thead th {\n",
       "        text-align: right;\n",
       "    }\n",
       "</style>\n",
       "<table border=\"1\" class=\"dataframe\">\n",
       "  <thead>\n",
       "    <tr style=\"text-align: right;\">\n",
       "      <th></th>\n",
       "      <th>0</th>\n",
       "      <th>1</th>\n",
       "      <th>2</th>\n",
       "      <th>3</th>\n",
       "      <th>Churn</th>\n",
       "    </tr>\n",
       "  </thead>\n",
       "  <tbody>\n",
       "    <tr>\n",
       "      <th>0</th>\n",
       "      <td>-0.465683</td>\n",
       "      <td>-0.437749</td>\n",
       "      <td>-0.000474</td>\n",
       "      <td>-0.422099</td>\n",
       "      <td>No</td>\n",
       "    </tr>\n",
       "    <tr>\n",
       "      <th>1</th>\n",
       "      <td>0.885537</td>\n",
       "      <td>-0.437749</td>\n",
       "      <td>1.074754</td>\n",
       "      <td>1.255366</td>\n",
       "      <td>No</td>\n",
       "    </tr>\n",
       "    <tr>\n",
       "      <th>2</th>\n",
       "      <td>-1.284605</td>\n",
       "      <td>-0.437749</td>\n",
       "      <td>-1.376499</td>\n",
       "      <td>-1.002985</td>\n",
       "      <td>Yes</td>\n",
       "    </tr>\n",
       "    <tr>\n",
       "      <th>3</th>\n",
       "      <td>-1.161766</td>\n",
       "      <td>-0.437749</td>\n",
       "      <td>0.177346</td>\n",
       "      <td>-0.908113</td>\n",
       "      <td>Yes</td>\n",
       "    </tr>\n",
       "    <tr>\n",
       "      <th>4</th>\n",
       "      <td>-1.325551</td>\n",
       "      <td>-0.437749</td>\n",
       "      <td>-0.098524</td>\n",
       "      <td>-0.003468</td>\n",
       "      <td>No</td>\n",
       "    </tr>\n",
       "    <tr>\n",
       "      <th>...</th>\n",
       "      <td>...</td>\n",
       "      <td>...</td>\n",
       "      <td>...</td>\n",
       "      <td>...</td>\n",
       "      <td>...</td>\n",
       "    </tr>\n",
       "    <tr>\n",
       "      <th>5629</th>\n",
       "      <td>-1.284605</td>\n",
       "      <td>-0.437749</td>\n",
       "      <td>1.001632</td>\n",
       "      <td>-0.971339</td>\n",
       "      <td>Yes</td>\n",
       "    </tr>\n",
       "    <tr>\n",
       "      <th>5630</th>\n",
       "      <td>-0.383791</td>\n",
       "      <td>-0.437749</td>\n",
       "      <td>0.872006</td>\n",
       "      <td>-0.041063</td>\n",
       "      <td>No</td>\n",
       "    </tr>\n",
       "    <tr>\n",
       "      <th>5631</th>\n",
       "      <td>-0.834198</td>\n",
       "      <td>-0.437749</td>\n",
       "      <td>-1.452945</td>\n",
       "      <td>-0.877993</td>\n",
       "      <td>No</td>\n",
       "    </tr>\n",
       "    <tr>\n",
       "      <th>5632</th>\n",
       "      <td>-0.834198</td>\n",
       "      <td>2.284413</td>\n",
       "      <td>1.149538</td>\n",
       "      <td>-0.482538</td>\n",
       "      <td>Yes</td>\n",
       "    </tr>\n",
       "    <tr>\n",
       "      <th>5633</th>\n",
       "      <td>-0.260953</td>\n",
       "      <td>-0.437749</td>\n",
       "      <td>-1.497815</td>\n",
       "      <td>-0.811096</td>\n",
       "      <td>No</td>\n",
       "    </tr>\n",
       "  </tbody>\n",
       "</table>\n",
       "<p>5634 rows × 5 columns</p>\n",
       "</div>"
      ],
      "text/plain": [
       "             0         1         2         3 Churn\n",
       "0    -0.465683 -0.437749 -0.000474 -0.422099    No\n",
       "1     0.885537 -0.437749  1.074754  1.255366    No\n",
       "2    -1.284605 -0.437749 -1.376499 -1.002985   Yes\n",
       "3    -1.161766 -0.437749  0.177346 -0.908113   Yes\n",
       "4    -1.325551 -0.437749 -0.098524 -0.003468    No\n",
       "...        ...       ...       ...       ...   ...\n",
       "5629 -1.284605 -0.437749  1.001632 -0.971339   Yes\n",
       "5630 -0.383791 -0.437749  0.872006 -0.041063    No\n",
       "5631 -0.834198 -0.437749 -1.452945 -0.877993    No\n",
       "5632 -0.834198  2.284413  1.149538 -0.482538   Yes\n",
       "5633 -0.260953 -0.437749 -1.497815 -0.811096    No\n",
       "\n",
       "[5634 rows x 5 columns]"
      ]
     },
     "execution_count": 33,
     "metadata": {},
     "output_type": "execute_result"
    }
   ],
   "source": [
    "data_down = pd.concat([X_train, y_train], axis=1)\n",
    "data_down"
   ]
  },
  {
   "cell_type": "code",
   "execution_count": 34,
   "id": "7ad7a01b-35d0-456b-88a5-1510fa7b1041",
   "metadata": {},
   "outputs": [
    {
     "data": {
      "text/plain": [
       "(512, 5)"
      ]
     },
     "execution_count": 34,
     "metadata": {},
     "output_type": "execute_result"
    }
   ],
   "source": [
    "A = data_down[data_down['Churn'] == 'Yes'].sample(256) \n",
    "B = data_down[data_down['Churn'] == 'No'].sample(256, replace=True)\n",
    "\n",
    "\n",
    "downsampled = pd.concat([A, B]).sample(frac=1) # .sample(frac=1) here is just to shuffle the dataframe\n",
    "downsampled.shape"
   ]
  },
  {
   "cell_type": "code",
   "execution_count": 35,
   "id": "ada2e309-adfc-413c-b376-37a683672cf4",
   "metadata": {},
   "outputs": [],
   "source": [
    "X_train_down = downsampled.drop(['Churn'], axis=1)\n",
    "y_train_down = downsampled['Churn']"
   ]
  },
  {
   "cell_type": "code",
   "execution_count": 36,
   "id": "1c6f0c06-d1a7-45bb-a472-a6f6c978290c",
   "metadata": {},
   "outputs": [
    {
     "name": "stdout",
     "output_type": "stream",
     "text": [
      "The accuracy score is:  0.7480482611781405 \n",
      "\n",
      "The value counts of the model predictions are:  \n",
      " No     859\n",
      "Yes    550\n",
      "dtype: int64\n"
     ]
    }
   ],
   "source": [
    "classification_model(X_train_down, y_train_down, X_test, y_test, w=None)"
   ]
  },
  {
   "cell_type": "code",
   "execution_count": 38,
   "id": "6c2db1d9-c9bb-474c-b7ce-ea897c5014a2",
   "metadata": {},
   "outputs": [
    {
     "name": "stdout",
     "output_type": "stream",
     "text": [
      "Confusion matrix:\n",
      "Classification report: \n",
      "\n",
      "              precision    recall  f1-score   support\n",
      "\n",
      "          No       0.90      0.74      0.81      1036\n",
      "         Yes       0.52      0.76      0.62       373\n",
      "\n",
      "    accuracy                           0.75      1409\n",
      "   macro avg       0.71      0.75      0.71      1409\n",
      "weighted avg       0.80      0.75      0.76      1409\n",
      "\n"
     ]
    },
    {
     "data": {
      "image/png": "[encoded data removed]",
      "text/plain": [
       "<Figure size 432x288 with 2 Axes>"
      ]
     },
     "metadata": {
      "needs_background": "light"
     },
     "output_type": "display_data"
    }
   ],
   "source": [
    "metrics_classification(X_train_down, y_train_down, X_test, y_test, w=None)"
   ]
  },
  {
   "cell_type": "markdown",
   "id": "b0aa42ad-0fb6-42d0-b848-542956e6e955",
   "metadata": {},
   "source": [
    "### SMOTE"
   ]
  },
  {
   "cell_type": "code",
   "execution_count": 39,
   "id": "ba7879a0-1da3-4f39-90ce-d55334c31418",
   "metadata": {},
   "outputs": [],
   "source": [
    "X_train_sm = X_train.copy()\n",
    "y_train_sm = y_train.copy()"
   ]
  },
  {
   "cell_type": "code",
   "execution_count": 40,
   "id": "052f2bd9-e8d7-4db9-8748-f8b78fbe853e",
   "metadata": {},
   "outputs": [
    {
     "data": {
      "text/plain": [
       "Churn\n",
       "No       4138\n",
       "Yes      4138\n",
       "dtype: int64"
      ]
     },
     "execution_count": 40,
     "metadata": {},
     "output_type": "execute_result"
    }
   ],
   "source": [
    "smote = SMOTE()\n",
    "\n",
    "X_train_sm, y_train_sm = smote.fit_resample(X_train_sm, y_train_sm)\n",
    "y_train_sm.value_counts()"
   ]
  },
  {
   "cell_type": "code",
   "execution_count": 41,
   "id": "e22a4479-8efa-4290-aef5-17e0ce2a53a0",
   "metadata": {},
   "outputs": [
    {
     "name": "stdout",
     "output_type": "stream",
     "text": [
      "The accuracy score is:  0.7452093683463449 \n",
      "\n",
      "The value counts of the model predictions are:  \n",
      " No     853\n",
      "Yes    556\n",
      "dtype: int64\n"
     ]
    }
   ],
   "source": [
    "classification_model(X_train_sm, y_train_sm, X_test, y_test, w=None)"
   ]
  },
  {
   "cell_type": "code",
   "execution_count": 42,
   "id": "987b92ab-26f6-4f38-8248-fc9ca8dbb27e",
   "metadata": {},
   "outputs": [
    {
     "name": "stdout",
     "output_type": "stream",
     "text": [
      "Confusion matrix:\n",
      "Classification report: \n",
      "\n",
      "              precision    recall  f1-score   support\n",
      "\n",
      "          No       0.90      0.74      0.81      1036\n",
      "         Yes       0.51      0.76      0.61       373\n",
      "\n",
      "    accuracy                           0.75      1409\n",
      "   macro avg       0.70      0.75      0.71      1409\n",
      "weighted avg       0.80      0.75      0.76      1409\n",
      "\n"
     ]
    },
    {
     "data": {
      "image/png": "[encoded data removed]",
      "text/plain": [
       "<Figure size 432x288 with 2 Axes>"
      ]
     },
     "metadata": {
      "needs_background": "light"
     },
     "output_type": "display_data"
    }
   ],
   "source": [
    "metrics_classification(X_train_sm, y_train_sm, X_test, y_test, w=None)"
   ]
  },
  {
   "cell_type": "markdown",
   "id": "285da55f-8b58-4bf9-a7fa-92e7da83c40d",
   "metadata": {},
   "source": [
    "### Tomeklinks"
   ]
  },
  {
   "cell_type": "code",
   "execution_count": 44,
   "id": "37979407-69a7-4018-a1c9-0ff8875f6a01",
   "metadata": {},
   "outputs": [],
   "source": [
    "X_train_tl = X_train.copy()\n",
    "y_train_tl = y_train.copy()"
   ]
  },
  {
   "cell_type": "code",
   "execution_count": 46,
   "id": "3bf5f165-4166-4dc8-b28c-eb0e8e2ac868",
   "metadata": {},
   "outputs": [],
   "source": [
    "tl = TomekLinks('majority')\n",
    "\n",
    "X_train_tl, y_train_tl = tl.fit_resample(X_train_tl, y_train_tl)"
   ]
  },
  {
   "cell_type": "code",
   "execution_count": 47,
   "id": "7288f907-a544-4bc6-8da5-97f35808b4e9",
   "metadata": {},
   "outputs": [
    {
     "name": "stdout",
     "output_type": "stream",
     "text": [
      "The accuracy score is:  0.7899219304471257 \n",
      "\n",
      "The value counts of the model predictions are:  \n",
      " No     1076\n",
      "Yes     333\n",
      "dtype: int64\n"
     ]
    }
   ],
   "source": [
    "classification_model(X_train_tl, y_train_tl, X_test, y_test, w=None)"
   ]
  },
  {
   "cell_type": "code",
   "execution_count": 48,
   "id": "9be51cb0-395a-4ff0-8edd-e0fca3c4b277",
   "metadata": {},
   "outputs": [
    {
     "name": "stdout",
     "output_type": "stream",
     "text": [
      "Confusion matrix:\n",
      "Classification report: \n",
      "\n",
      "              precision    recall  f1-score   support\n",
      "\n",
      "          No       0.84      0.88      0.86      1036\n",
      "         Yes       0.62      0.55      0.58       373\n",
      "\n",
      "    accuracy                           0.79      1409\n",
      "   macro avg       0.73      0.71      0.72      1409\n",
      "weighted avg       0.78      0.79      0.79      1409\n",
      "\n"
     ]
    },
    {
     "data": {
      "image/png": "[encoded data removed]",
      "text/plain": [
       "<Figure size 432x288 with 2 Axes>"
      ]
     },
     "metadata": {
      "needs_background": "light"
     },
     "output_type": "display_data"
    }
   ],
   "source": [
    "metrics_classification(X_train_tl, y_train_tl, X_test, y_test, w=None)"
   ]
  },
  {
   "cell_type": "code",
   "execution_count": null,
   "id": "1c5a2103-3673-4c8e-8cc3-188f45930c57",
   "metadata": {},
   "outputs": [],
   "source": []
  }
 ],
 "metadata": {
  "kernelspec": {
   "display_name": "Python 3",
   "language": "python",
   "name": "python3"
  },
  "language_info": {
   "codemirror_mode": {
    "name": "ipython",
    "version": 3
   },
   "file_extension": ".py",
   "mimetype": "text/x-python",
   "name": "python",
   "nbconvert_exporter": "python",
   "pygments_lexer": "ipython3",
   "version": "3.9.6"
  }
 },
 "nbformat": 4,
 "nbformat_minor": 5
}
