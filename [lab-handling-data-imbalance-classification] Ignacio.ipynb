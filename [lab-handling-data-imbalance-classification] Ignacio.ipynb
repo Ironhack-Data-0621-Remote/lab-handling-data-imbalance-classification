{
 "cells": [
  {
   "cell_type": "markdown",
   "id": "845db9b1",
   "metadata": {},
   "source": [
    "# Lab | Handling Data Imbalance in Classification Models\n"
   ]
  },
  {
   "cell_type": "markdown",
   "id": "1c081a45",
   "metadata": {},
   "source": [
    "### Import the required libraries and modules that you would need."
   ]
  },
  {
   "cell_type": "code",
   "execution_count": 1,
   "id": "158ef718",
   "metadata": {},
   "outputs": [
    {
     "name": "stdout",
     "output_type": "stream",
     "text": [
      "Requirement already satisfied: pymysql in /usr/local/Caskroom/miniconda/base/lib/python3.8/site-packages (1.0.2)\r\n"
     ]
    }
   ],
   "source": [
    "!pip install pymysql"
   ]
  },
  {
   "cell_type": "code",
   "execution_count": 55,
   "id": "50c36c38",
   "metadata": {},
   "outputs": [],
   "source": [
    "import pymysql\n",
    "from sqlalchemy import create_engine\n",
    "import pandas as pd\n",
    "import numpy as np\n",
    "import getpass\n",
    "import matplotlib.pyplot as plt\n",
    "import seaborn as sns\n",
    "from sklearn.model_selection import train_test_split\n",
    "from sklearn.linear_model import LogisticRegression\n",
    "from sklearn.metrics import confusion_matrix\n",
    "from sklearn.preprocessing import OneHotEncoder, Normalizer, LabelEncoder\n",
    "from imblearn.over_sampling import SMOTE\n",
    "from imblearn.under_sampling import TomekLinks"
   ]
  },
  {
   "cell_type": "markdown",
   "id": "21678c70",
   "metadata": {},
   "source": [
    "### Read that data into Python and call the dataframe churnData."
   ]
  },
  {
   "cell_type": "code",
   "execution_count": 3,
   "id": "4163fc9c",
   "metadata": {},
   "outputs": [],
   "source": [
    "churnData = pd.read_csv(\"files_for_lab/Customer-Churn.csv\")"
   ]
  },
  {
   "cell_type": "markdown",
   "id": "1eb39034",
   "metadata": {},
   "source": [
    "## Check the datatypes of all the columns in the data. \n",
    "\n",
    "You would see that the column TotalCharges is object type. Convert this column into numeric type using pd.to_numeric function.\n"
   ]
  },
  {
   "cell_type": "code",
   "execution_count": 4,
   "id": "ade1fca1",
   "metadata": {},
   "outputs": [
    {
     "data": {
      "text/plain": [
       "gender               object\n",
       "SeniorCitizen         int64\n",
       "Partner              object\n",
       "Dependents           object\n",
       "tenure                int64\n",
       "PhoneService         object\n",
       "OnlineSecurity       object\n",
       "OnlineBackup         object\n",
       "DeviceProtection     object\n",
       "TechSupport          object\n",
       "StreamingTV          object\n",
       "StreamingMovies      object\n",
       "Contract             object\n",
       "MonthlyCharges      float64\n",
       "TotalCharges         object\n",
       "Churn                object\n",
       "dtype: object"
      ]
     },
     "execution_count": 4,
     "metadata": {},
     "output_type": "execute_result"
    }
   ],
   "source": [
    "churnData.dtypes"
   ]
  },
  {
   "cell_type": "code",
   "execution_count": 5,
   "id": "78c5f37f",
   "metadata": {},
   "outputs": [],
   "source": [
    "churnData[\"TotalCharges\"] = pd.to_numeric(churnData[\"TotalCharges\"], errors = 'coerce')"
   ]
  },
  {
   "cell_type": "code",
   "execution_count": 6,
   "id": "ad4e5e37",
   "metadata": {},
   "outputs": [
    {
     "data": {
      "text/plain": [
       "dtype('float64')"
      ]
     },
     "execution_count": 6,
     "metadata": {},
     "output_type": "execute_result"
    }
   ],
   "source": [
    "churnData[\"TotalCharges\"].dtypes"
   ]
  },
  {
   "cell_type": "markdown",
   "id": "1a68aed9",
   "metadata": {},
   "source": [
    "### Check for null values in the dataframe. Replace the null values."
   ]
  },
  {
   "cell_type": "code",
   "execution_count": 7,
   "id": "0c99d706",
   "metadata": {},
   "outputs": [],
   "source": [
    "def checking_nulls(df):\n",
    "    # This function shows which columns have null values and returns a df with only nulls\n",
    "    for c in df.columns:\n",
    "        null_count = df[c].isnull().sum()\n",
    "        if null_count > 0:\n",
    "            print (\"The column \", c, \" has \", null_count, \" null values\")\n",
    "    nulls = df[df.isna().any(axis=1)]\n",
    "    return nulls.head(3)"
   ]
  },
  {
   "cell_type": "code",
   "execution_count": 8,
   "id": "c904923c",
   "metadata": {},
   "outputs": [
    {
     "name": "stdout",
     "output_type": "stream",
     "text": [
      "The column  TotalCharges  has  11  null values\n"
     ]
    },
    {
     "data": {
      "text/html": [
       "<div>\n",
       "<style scoped>\n",
       "    .dataframe tbody tr th:only-of-type {\n",
       "        vertical-align: middle;\n",
       "    }\n",
       "\n",
       "    .dataframe tbody tr th {\n",
       "        vertical-align: top;\n",
       "    }\n",
       "\n",
       "    .dataframe thead th {\n",
       "        text-align: right;\n",
       "    }\n",
       "</style>\n",
       "<table border=\"1\" class=\"dataframe\">\n",
       "  <thead>\n",
       "    <tr style=\"text-align: right;\">\n",
       "      <th></th>\n",
       "      <th>gender</th>\n",
       "      <th>SeniorCitizen</th>\n",
       "      <th>Partner</th>\n",
       "      <th>Dependents</th>\n",
       "      <th>tenure</th>\n",
       "      <th>PhoneService</th>\n",
       "      <th>OnlineSecurity</th>\n",
       "      <th>OnlineBackup</th>\n",
       "      <th>DeviceProtection</th>\n",
       "      <th>TechSupport</th>\n",
       "      <th>StreamingTV</th>\n",
       "      <th>StreamingMovies</th>\n",
       "      <th>Contract</th>\n",
       "      <th>MonthlyCharges</th>\n",
       "      <th>TotalCharges</th>\n",
       "      <th>Churn</th>\n",
       "    </tr>\n",
       "  </thead>\n",
       "  <tbody>\n",
       "    <tr>\n",
       "      <th>488</th>\n",
       "      <td>Female</td>\n",
       "      <td>0</td>\n",
       "      <td>Yes</td>\n",
       "      <td>Yes</td>\n",
       "      <td>0</td>\n",
       "      <td>No</td>\n",
       "      <td>Yes</td>\n",
       "      <td>No</td>\n",
       "      <td>Yes</td>\n",
       "      <td>Yes</td>\n",
       "      <td>Yes</td>\n",
       "      <td>No</td>\n",
       "      <td>Two year</td>\n",
       "      <td>52.55</td>\n",
       "      <td>NaN</td>\n",
       "      <td>No</td>\n",
       "    </tr>\n",
       "    <tr>\n",
       "      <th>753</th>\n",
       "      <td>Male</td>\n",
       "      <td>0</td>\n",
       "      <td>No</td>\n",
       "      <td>Yes</td>\n",
       "      <td>0</td>\n",
       "      <td>Yes</td>\n",
       "      <td>No internet service</td>\n",
       "      <td>No internet service</td>\n",
       "      <td>No internet service</td>\n",
       "      <td>No internet service</td>\n",
       "      <td>No internet service</td>\n",
       "      <td>No internet service</td>\n",
       "      <td>Two year</td>\n",
       "      <td>20.25</td>\n",
       "      <td>NaN</td>\n",
       "      <td>No</td>\n",
       "    </tr>\n",
       "    <tr>\n",
       "      <th>936</th>\n",
       "      <td>Female</td>\n",
       "      <td>0</td>\n",
       "      <td>Yes</td>\n",
       "      <td>Yes</td>\n",
       "      <td>0</td>\n",
       "      <td>Yes</td>\n",
       "      <td>Yes</td>\n",
       "      <td>Yes</td>\n",
       "      <td>Yes</td>\n",
       "      <td>No</td>\n",
       "      <td>Yes</td>\n",
       "      <td>Yes</td>\n",
       "      <td>Two year</td>\n",
       "      <td>80.85</td>\n",
       "      <td>NaN</td>\n",
       "      <td>No</td>\n",
       "    </tr>\n",
       "  </tbody>\n",
       "</table>\n",
       "</div>"
      ],
      "text/plain": [
       "     gender  SeniorCitizen Partner Dependents  tenure PhoneService  \\\n",
       "488  Female              0     Yes        Yes       0           No   \n",
       "753    Male              0      No        Yes       0          Yes   \n",
       "936  Female              0     Yes        Yes       0          Yes   \n",
       "\n",
       "          OnlineSecurity         OnlineBackup     DeviceProtection  \\\n",
       "488                  Yes                   No                  Yes   \n",
       "753  No internet service  No internet service  No internet service   \n",
       "936                  Yes                  Yes                  Yes   \n",
       "\n",
       "             TechSupport          StreamingTV      StreamingMovies  Contract  \\\n",
       "488                  Yes                  Yes                   No  Two year   \n",
       "753  No internet service  No internet service  No internet service  Two year   \n",
       "936                   No                  Yes                  Yes  Two year   \n",
       "\n",
       "     MonthlyCharges  TotalCharges Churn  \n",
       "488           52.55           NaN    No  \n",
       "753           20.25           NaN    No  \n",
       "936           80.85           NaN    No  "
      ]
     },
     "execution_count": 8,
     "metadata": {},
     "output_type": "execute_result"
    }
   ],
   "source": [
    "checking_nulls(churnData)"
   ]
  },
  {
   "cell_type": "code",
   "execution_count": 9,
   "id": "7ab15a14",
   "metadata": {},
   "outputs": [],
   "source": [
    "def replace_nulls_mean(df):\n",
    "    # This function replaces null values with the mean of the column.\n",
    "    for c in df.columns:\n",
    "        null_count = df[c].isnull().sum()\n",
    "        if null_count > 0:\n",
    "            df[c].fillna((df[c].mean()), inplace=True)"
   ]
  },
  {
   "cell_type": "code",
   "execution_count": 10,
   "id": "61af7a57",
   "metadata": {},
   "outputs": [],
   "source": [
    "replace_nulls_mean(churnData)"
   ]
  },
  {
   "cell_type": "code",
   "execution_count": 11,
   "id": "d0df64cb",
   "metadata": {},
   "outputs": [
    {
     "data": {
      "text/html": [
       "<div>\n",
       "<style scoped>\n",
       "    .dataframe tbody tr th:only-of-type {\n",
       "        vertical-align: middle;\n",
       "    }\n",
       "\n",
       "    .dataframe tbody tr th {\n",
       "        vertical-align: top;\n",
       "    }\n",
       "\n",
       "    .dataframe thead th {\n",
       "        text-align: right;\n",
       "    }\n",
       "</style>\n",
       "<table border=\"1\" class=\"dataframe\">\n",
       "  <thead>\n",
       "    <tr style=\"text-align: right;\">\n",
       "      <th></th>\n",
       "      <th>gender</th>\n",
       "      <th>SeniorCitizen</th>\n",
       "      <th>Partner</th>\n",
       "      <th>Dependents</th>\n",
       "      <th>tenure</th>\n",
       "      <th>PhoneService</th>\n",
       "      <th>OnlineSecurity</th>\n",
       "      <th>OnlineBackup</th>\n",
       "      <th>DeviceProtection</th>\n",
       "      <th>TechSupport</th>\n",
       "      <th>StreamingTV</th>\n",
       "      <th>StreamingMovies</th>\n",
       "      <th>Contract</th>\n",
       "      <th>MonthlyCharges</th>\n",
       "      <th>TotalCharges</th>\n",
       "      <th>Churn</th>\n",
       "    </tr>\n",
       "  </thead>\n",
       "  <tbody>\n",
       "  </tbody>\n",
       "</table>\n",
       "</div>"
      ],
      "text/plain": [
       "Empty DataFrame\n",
       "Columns: [gender, SeniorCitizen, Partner, Dependents, tenure, PhoneService, OnlineSecurity, OnlineBackup, DeviceProtection, TechSupport, StreamingTV, StreamingMovies, Contract, MonthlyCharges, TotalCharges, Churn]\n",
       "Index: []"
      ]
     },
     "execution_count": 11,
     "metadata": {},
     "output_type": "execute_result"
    }
   ],
   "source": [
    "checking_nulls(churnData)"
   ]
  },
  {
   "cell_type": "markdown",
   "id": "c459fccb",
   "metadata": {},
   "source": [
    "### Use the following features: tenure, SeniorCitizen, MonthlyCharges and TotalCharges:"
   ]
  },
  {
   "cell_type": "code",
   "execution_count": 12,
   "id": "c7a78e38",
   "metadata": {},
   "outputs": [],
   "source": [
    "y = pd.DataFrame(churnData[\"Churn\"])"
   ]
  },
  {
   "cell_type": "code",
   "execution_count": 13,
   "id": "b9f1fe59",
   "metadata": {},
   "outputs": [],
   "source": [
    "for c in churnData.columns:\n",
    "    if c not in ['tenure', 'SeniorCitizen', 'MonthlyCharges', 'TotalCharges']:\n",
    "        X = churnData.drop(c, axis = 1, inplace = True)"
   ]
  },
  {
   "cell_type": "markdown",
   "id": "7444f8ce",
   "metadata": {},
   "source": [
    "#### - Scale the features either by using normalizer or a standard scaler."
   ]
  },
  {
   "cell_type": "code",
   "execution_count": 14,
   "id": "93c1489f",
   "metadata": {},
   "outputs": [
    {
     "data": {
      "text/html": [
       "<div>\n",
       "<style scoped>\n",
       "    .dataframe tbody tr th:only-of-type {\n",
       "        vertical-align: middle;\n",
       "    }\n",
       "\n",
       "    .dataframe tbody tr th {\n",
       "        vertical-align: top;\n",
       "    }\n",
       "\n",
       "    .dataframe thead th {\n",
       "        text-align: right;\n",
       "    }\n",
       "</style>\n",
       "<table border=\"1\" class=\"dataframe\">\n",
       "  <thead>\n",
       "    <tr style=\"text-align: right;\">\n",
       "      <th></th>\n",
       "      <th>SeniorCitizen</th>\n",
       "      <th>tenure</th>\n",
       "      <th>MonthlyCharges</th>\n",
       "      <th>TotalCharges</th>\n",
       "    </tr>\n",
       "  </thead>\n",
       "  <tbody>\n",
       "    <tr>\n",
       "      <th>0</th>\n",
       "      <td>0</td>\n",
       "      <td>1</td>\n",
       "      <td>29.85</td>\n",
       "      <td>29.85</td>\n",
       "    </tr>\n",
       "    <tr>\n",
       "      <th>1</th>\n",
       "      <td>0</td>\n",
       "      <td>34</td>\n",
       "      <td>56.95</td>\n",
       "      <td>1889.50</td>\n",
       "    </tr>\n",
       "    <tr>\n",
       "      <th>2</th>\n",
       "      <td>0</td>\n",
       "      <td>2</td>\n",
       "      <td>53.85</td>\n",
       "      <td>108.15</td>\n",
       "    </tr>\n",
       "  </tbody>\n",
       "</table>\n",
       "</div>"
      ],
      "text/plain": [
       "   SeniorCitizen  tenure  MonthlyCharges  TotalCharges\n",
       "0              0       1           29.85         29.85\n",
       "1              0      34           56.95       1889.50\n",
       "2              0       2           53.85        108.15"
      ]
     },
     "execution_count": 14,
     "metadata": {},
     "output_type": "execute_result"
    }
   ],
   "source": [
    "churnData.head(3)"
   ]
  },
  {
   "cell_type": "markdown",
   "id": "7d1a1fc7",
   "metadata": {},
   "source": [
    "#### - Scale the features either by using normalizer or a standard scaler."
   ]
  },
  {
   "cell_type": "code",
   "execution_count": 15,
   "id": "34c7ee22",
   "metadata": {},
   "outputs": [],
   "source": [
    "transformer = Normalizer().fit(churnData)\n",
    "transformer\n",
    "churnData_norm = transformer.transform(churnData)\n",
    "churnData_norm = pd.DataFrame(churnData_norm, columns=churnData.columns, index=churnData.index)"
   ]
  },
  {
   "cell_type": "code",
   "execution_count": 16,
   "id": "d9f2952f",
   "metadata": {},
   "outputs": [
    {
     "data": {
      "text/html": [
       "<div>\n",
       "<style scoped>\n",
       "    .dataframe tbody tr th:only-of-type {\n",
       "        vertical-align: middle;\n",
       "    }\n",
       "\n",
       "    .dataframe tbody tr th {\n",
       "        vertical-align: top;\n",
       "    }\n",
       "\n",
       "    .dataframe thead th {\n",
       "        text-align: right;\n",
       "    }\n",
       "</style>\n",
       "<table border=\"1\" class=\"dataframe\">\n",
       "  <thead>\n",
       "    <tr style=\"text-align: right;\">\n",
       "      <th></th>\n",
       "      <th>SeniorCitizen</th>\n",
       "      <th>tenure</th>\n",
       "      <th>MonthlyCharges</th>\n",
       "      <th>TotalCharges</th>\n",
       "    </tr>\n",
       "  </thead>\n",
       "  <tbody>\n",
       "    <tr>\n",
       "      <th>0</th>\n",
       "      <td>0</td>\n",
       "      <td>1</td>\n",
       "      <td>29.85</td>\n",
       "      <td>29.85</td>\n",
       "    </tr>\n",
       "    <tr>\n",
       "      <th>1</th>\n",
       "      <td>0</td>\n",
       "      <td>34</td>\n",
       "      <td>56.95</td>\n",
       "      <td>1889.50</td>\n",
       "    </tr>\n",
       "    <tr>\n",
       "      <th>2</th>\n",
       "      <td>0</td>\n",
       "      <td>2</td>\n",
       "      <td>53.85</td>\n",
       "      <td>108.15</td>\n",
       "    </tr>\n",
       "  </tbody>\n",
       "</table>\n",
       "</div>"
      ],
      "text/plain": [
       "   SeniorCitizen  tenure  MonthlyCharges  TotalCharges\n",
       "0              0       1           29.85         29.85\n",
       "1              0      34           56.95       1889.50\n",
       "2              0       2           53.85        108.15"
      ]
     },
     "execution_count": 16,
     "metadata": {},
     "output_type": "execute_result"
    }
   ],
   "source": [
    "churnData.head(3)"
   ]
  },
  {
   "cell_type": "markdown",
   "id": "90f3d27f",
   "metadata": {},
   "source": [
    "#### - Split the data into a training set and a test set."
   ]
  },
  {
   "cell_type": "code",
   "execution_count": 17,
   "id": "ffd59304",
   "metadata": {},
   "outputs": [],
   "source": [
    "X = churnData"
   ]
  },
  {
   "cell_type": "code",
   "execution_count": 18,
   "id": "b140ba30",
   "metadata": {},
   "outputs": [],
   "source": [
    "X_train, X_test, y_train, y_test = train_test_split(X, y, random_state=0)"
   ]
  },
  {
   "cell_type": "markdown",
   "id": "ea6b490b",
   "metadata": {},
   "source": [
    "#### - Fit a logistic regression model on the training data."
   ]
  },
  {
   "cell_type": "code",
   "execution_count": 19,
   "id": "4ac34124",
   "metadata": {},
   "outputs": [
    {
     "name": "stderr",
     "output_type": "stream",
     "text": [
      "/usr/local/lib/python3.9/site-packages/sklearn/utils/validation.py:63: DataConversionWarning: A column-vector y was passed when a 1d array was expected. Please change the shape of y to (n_samples, ), for example using ravel().\n",
      "  return f(*args, **kwargs)\n"
     ]
    },
    {
     "data": {
      "text/plain": [
       "LogisticRegression()"
      ]
     },
     "execution_count": 19,
     "metadata": {},
     "output_type": "execute_result"
    }
   ],
   "source": [
    "logreg = LogisticRegression()\n",
    "logreg.fit(X_train, y_train)"
   ]
  },
  {
   "cell_type": "markdown",
   "id": "0479584e",
   "metadata": {},
   "source": [
    "#### - Check the accuracy on the test data."
   ]
  },
  {
   "cell_type": "code",
   "execution_count": 20,
   "id": "ed9c2932",
   "metadata": {},
   "outputs": [
    {
     "data": {
      "text/plain": [
       "0.7825099375354913"
      ]
     },
     "execution_count": 20,
     "metadata": {},
     "output_type": "execute_result"
    }
   ],
   "source": [
    "logreg.score(X_test, y_test)"
   ]
  },
  {
   "cell_type": "markdown",
   "id": "753a6100",
   "metadata": {},
   "source": [
    "### Managing imbalance in the dataset"
   ]
  },
  {
   "cell_type": "markdown",
   "id": "459b3f84",
   "metadata": {},
   "source": [
    "#### - Check for the imbalance."
   ]
  },
  {
   "cell_type": "code",
   "execution_count": 39,
   "id": "4c851cbc",
   "metadata": {},
   "outputs": [],
   "source": [
    "def cat_exploration(df):\n",
    "    # This function displays the proportion of each value type for each categorical column and its countplot\n",
    "    cat = df.select_dtypes('object')\n",
    "    for c in cat.columns:\n",
    "        sns.set_style(\"darkgrid\")\n",
    "        print(c)\n",
    "        print(cat[c].value_counts(normalize=True).mul(100).round(1))\n",
    "        print(cat[c].value_counts())\n",
    "        fig, axes = plt.subplots(1, 1, figsize=(7, 4))\n",
    "        sns.countplot(cat[c], color = 'gray')\n",
    "        plt.show()"
   ]
  },
  {
   "cell_type": "code",
   "execution_count": 40,
   "id": "ea790eb9",
   "metadata": {},
   "outputs": [
    {
     "name": "stdout",
     "output_type": "stream",
     "text": [
      "Churn\n",
      "No     73.5\n",
      "Yes    26.5\n",
      "Name: Churn, dtype: float64\n",
      "No     5174\n",
      "Yes    1869\n",
      "Name: Churn, dtype: int64\n"
     ]
    },
    {
     "name": "stderr",
     "output_type": "stream",
     "text": [
      "/usr/local/lib/python3.9/site-packages/seaborn/_decorators.py:36: FutureWarning: Pass the following variable as a keyword arg: x. From version 0.12, the only valid positional argument will be `data`, and passing other arguments without an explicit keyword will result in an error or misinterpretation.\n",
      "  warnings.warn(\n"
     ]
    },
    {
     "data": {
      "image/png": "[encoded data removed]",
      "text/plain": [
       "<Figure size 504x288 with 1 Axes>"
      ]
     },
     "metadata": {},
     "output_type": "display_data"
    }
   ],
   "source": [
    "cat_exploration(y)"
   ]
  },
  {
   "cell_type": "markdown",
   "id": "f9ff4b30",
   "metadata": {},
   "source": [
    "#### - Use the resampling strategies used in class for upsampling and downsampling to create a balance between the two classes."
   ]
  },
  {
   "cell_type": "markdown",
   "id": "8c3c90a7",
   "metadata": {},
   "source": [
    "Upsampling "
   ]
  },
  {
   "cell_type": "code",
   "execution_count": 46,
   "id": "94b1a773",
   "metadata": {},
   "outputs": [],
   "source": [
    "data_up = pd.concat([X_train, y_train], axis=1)\n",
    "\n",
    "Yes = data_up[data_up['Churn'] == 'Yes'].sample(5174, replace=True) \n",
    "No = data_up[data_up['Churn'] == 'No'].sample(5174, replace=True)\n",
    "\n",
    "upsampled_train = pd.concat([Yes, No]).sample(frac=1)\n",
    "X_up_train = upsampled_train.drop(\"Churn\", axis = 1)\n",
    "y_up_train = upsampled_train[\"Churn\"]"
   ]
  },
  {
   "cell_type": "code",
   "execution_count": 47,
   "id": "28bfc008",
   "metadata": {},
   "outputs": [
    {
     "data": {
      "text/plain": [
       "0.6802952867688813"
      ]
     },
     "execution_count": 47,
     "metadata": {},
     "output_type": "execute_result"
    }
   ],
   "source": [
    "logreg.fit(X_up_train, y_up_train)\n",
    "logreg.score(X_test, y_test)"
   ]
  },
  {
   "cell_type": "markdown",
   "id": "6e81bcb4",
   "metadata": {},
   "source": [
    "SMOTE"
   ]
  },
  {
   "cell_type": "code",
   "execution_count": null,
   "id": "3b3284e8",
   "metadata": {},
   "outputs": [],
   "source": [
    "X_train_sm = X_train.copy()\n",
    "y_train_sm = y_train.copy()"
   ]
  },
  {
   "cell_type": "code",
   "execution_count": 27,
   "id": "bb347843",
   "metadata": {},
   "outputs": [
    {
     "data": {
      "text/plain": [
       "Churn\n",
       "No       3876\n",
       "Yes      3876\n",
       "dtype: int64"
      ]
     },
     "execution_count": 27,
     "metadata": {},
     "output_type": "execute_result"
    }
   ],
   "source": [
    "smote = SMOTE()\n",
    "\n",
    "X_train_sm, y_train_sm = smote.fit_resample(X_train_sm, y_train_sm)"
   ]
  },
  {
   "cell_type": "code",
   "execution_count": 48,
   "id": "dd502e3d",
   "metadata": {},
   "outputs": [
    {
     "name": "stderr",
     "output_type": "stream",
     "text": [
      "/usr/local/lib/python3.9/site-packages/sklearn/utils/validation.py:63: DataConversionWarning: A column-vector y was passed when a 1d array was expected. Please change the shape of y to (n_samples, ), for example using ravel().\n",
      "  return f(*args, **kwargs)\n"
     ]
    },
    {
     "data": {
      "text/plain": [
       "0.7149346961953436"
      ]
     },
     "execution_count": 48,
     "metadata": {},
     "output_type": "execute_result"
    }
   ],
   "source": [
    "logreg.fit(X_train_sm, y_train_sm)\n",
    "logreg.score(X_test, y_test)"
   ]
  },
  {
   "cell_type": "markdown",
   "id": "0244b7dd",
   "metadata": {},
   "source": [
    "Downsampling"
   ]
  },
  {
   "cell_type": "code",
   "execution_count": 49,
   "id": "3a297581",
   "metadata": {},
   "outputs": [],
   "source": [
    "data_dw = pd.concat([X_train, y_train], axis=1)\n",
    "\n",
    "Yes = data_dw[data_dw['Churn'] == 'Yes'].sample(1869, replace=True) \n",
    "No = data_dw[data_dw['Churn'] == 'No'].sample(1869, replace=True)\n",
    "\n",
    "downsampled_train = pd.concat([Yes, No]).sample(frac=1)\n",
    "X_dw_train = downsampled_train.drop(\"Churn\", axis = 1)\n",
    "y_dw_train = downsampled_train[\"Churn\"]"
   ]
  },
  {
   "cell_type": "code",
   "execution_count": 51,
   "id": "ca69c794",
   "metadata": {},
   "outputs": [
    {
     "data": {
      "text/plain": [
       "0.7018739352640545"
      ]
     },
     "execution_count": 51,
     "metadata": {},
     "output_type": "execute_result"
    }
   ],
   "source": [
    "logreg.fit(X_dw_train, y_dw_train)\n",
    "logreg.score(X_test, y_test)"
   ]
  },
  {
   "cell_type": "markdown",
   "id": "a575d10d",
   "metadata": {},
   "source": [
    "Tomeklinks"
   ]
  },
  {
   "cell_type": "code",
   "execution_count": 52,
   "id": "9bb45d7b",
   "metadata": {},
   "outputs": [],
   "source": [
    "X_train_tl = X_train.copy()\n",
    "y_train_tl = y_train.copy()"
   ]
  },
  {
   "cell_type": "code",
   "execution_count": 56,
   "id": "cef786c7",
   "metadata": {},
   "outputs": [
    {
     "name": "stderr",
     "output_type": "stream",
     "text": [
      "/usr/local/Cellar/jupyterlab/3.0.16_1/libexec/lib/python3.9/site-packages/imblearn/utils/_validation.py:587: FutureWarning: Pass sampling_strategy=majority as keyword args. From version 0.9 passing these as positional arguments will result in an error\n",
      "  warnings.warn(\n"
     ]
    }
   ],
   "source": [
    "tl = TomekLinks('majority')\n",
    "\n",
    "X_train_tl, y_train_tl = tl.fit_resample(X_train_tl, y_train_tl)"
   ]
  },
  {
   "cell_type": "code",
   "execution_count": 57,
   "id": "3e09f8c3",
   "metadata": {},
   "outputs": [
    {
     "name": "stderr",
     "output_type": "stream",
     "text": [
      "/usr/local/lib/python3.9/site-packages/sklearn/utils/validation.py:63: DataConversionWarning: A column-vector y was passed when a 1d array was expected. Please change the shape of y to (n_samples, ), for example using ravel().\n",
      "  return f(*args, **kwargs)\n"
     ]
    },
    {
     "data": {
      "text/plain": [
       "0.7597955706984668"
      ]
     },
     "execution_count": 57,
     "metadata": {},
     "output_type": "execute_result"
    }
   ],
   "source": [
    "logreg.fit(X_train_tl, y_train_tl)\n",
    "logreg.score(X_test, y_test)"
   ]
  }
 ],
 "metadata": {
  "kernelspec": {
   "display_name": "Python 3",
   "language": "python",
   "name": "python3"
  },
  "language_info": {
   "codemirror_mode": {
    "name": "ipython",
    "version": 3
   },
   "file_extension": ".py",
   "mimetype": "text/x-python",
   "name": "python",
   "nbconvert_exporter": "python",
   "pygments_lexer": "ipython3",
   "version": "3.9.5"
  }
 },
 "nbformat": 4,
 "nbformat_minor": 5
}
